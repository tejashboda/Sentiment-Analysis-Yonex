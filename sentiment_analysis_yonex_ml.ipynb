{
 "cells": [
  {
   "cell_type": "code",
   "execution_count": 1,
   "id": "d99708e1",
   "metadata": {},
   "outputs": [],
   "source": [
    "import numpy as np\n",
    "import pandas as pd\n",
    "import matplotlib.pyplot as plt\n",
    "import seaborn as sns\n",
    "import re\n",
    "import nltk\n",
    "from tqdm import tqdm, tqdm_notebook\n",
    "from nltk.corpus import stopwords\n",
    "from nltk.stem.porter import PorterStemmer\n",
    "from nltk.sentiment import SentimentIntensityAnalyzer\n",
    "from sklearn.model_selection import train_test_split\n",
    "from sklearn.naive_bayes import GaussianNB\n",
    "from sklearn.naive_bayes import MultinomialNB\n",
    "from sklearn.pipeline import Pipeline\n",
    "from sklearn.metrics import accuracy_score,confusion_matrix,classification_report,f1_score,ConfusionMatrixDisplay\n",
    "from sklearn.feature_extraction.text import CountVectorizer"
   ]
  },
  {
   "cell_type": "code",
   "execution_count": 2,
   "id": "02a8e8f5",
   "metadata": {},
   "outputs": [],
   "source": [
    "df = pd.read_csv(r\"D:\\Intership\\sentiment_analysis\\reviews_badminton\\data.csv\")"
   ]
  },
  {
   "cell_type": "code",
   "execution_count": 3,
   "id": "29607b5e",
   "metadata": {},
   "outputs": [
    {
     "data": {
      "text/html": [
       "<div>\n",
       "<style scoped>\n",
       "    .dataframe tbody tr th:only-of-type {\n",
       "        vertical-align: middle;\n",
       "    }\n",
       "\n",
       "    .dataframe tbody tr th {\n",
       "        vertical-align: top;\n",
       "    }\n",
       "\n",
       "    .dataframe thead th {\n",
       "        text-align: right;\n",
       "    }\n",
       "</style>\n",
       "<table border=\"1\" class=\"dataframe\">\n",
       "  <thead>\n",
       "    <tr style=\"text-align: right;\">\n",
       "      <th></th>\n",
       "      <th>Reviewer Name</th>\n",
       "      <th>Review Title</th>\n",
       "      <th>Place of Review</th>\n",
       "      <th>Up Votes</th>\n",
       "      <th>Down Votes</th>\n",
       "      <th>Month</th>\n",
       "      <th>Review text</th>\n",
       "      <th>Ratings</th>\n",
       "    </tr>\n",
       "  </thead>\n",
       "  <tbody>\n",
       "    <tr>\n",
       "      <th>0</th>\n",
       "      <td>Kamal Suresh</td>\n",
       "      <td>Nice product</td>\n",
       "      <td>Certified Buyer, Chirakkal</td>\n",
       "      <td>889.0</td>\n",
       "      <td>64.0</td>\n",
       "      <td>Feb 2021</td>\n",
       "      <td>Nice product, good quality, but price is now r...</td>\n",
       "      <td>4</td>\n",
       "    </tr>\n",
       "    <tr>\n",
       "      <th>1</th>\n",
       "      <td>Flipkart Customer</td>\n",
       "      <td>Don't waste your money</td>\n",
       "      <td>Certified Buyer, Hyderabad</td>\n",
       "      <td>109.0</td>\n",
       "      <td>6.0</td>\n",
       "      <td>Feb 2021</td>\n",
       "      <td>They didn't supplied Yonex Mavis 350. Outside ...</td>\n",
       "      <td>1</td>\n",
       "    </tr>\n",
       "    <tr>\n",
       "      <th>2</th>\n",
       "      <td>A. S. Raja Srinivasan</td>\n",
       "      <td>Did not meet expectations</td>\n",
       "      <td>Certified Buyer, Dharmapuri</td>\n",
       "      <td>42.0</td>\n",
       "      <td>3.0</td>\n",
       "      <td>Apr 2021</td>\n",
       "      <td>Worst product. Damaged shuttlecocks packed in ...</td>\n",
       "      <td>1</td>\n",
       "    </tr>\n",
       "    <tr>\n",
       "      <th>3</th>\n",
       "      <td>Suresh Narayanasamy</td>\n",
       "      <td>Fair</td>\n",
       "      <td>Certified Buyer, Chennai</td>\n",
       "      <td>25.0</td>\n",
       "      <td>1.0</td>\n",
       "      <td>NaN</td>\n",
       "      <td>Quite O. K. , but nowadays  the quality of the...</td>\n",
       "      <td>3</td>\n",
       "    </tr>\n",
       "    <tr>\n",
       "      <th>4</th>\n",
       "      <td>ASHIK P A</td>\n",
       "      <td>Over priced</td>\n",
       "      <td>NaN</td>\n",
       "      <td>147.0</td>\n",
       "      <td>24.0</td>\n",
       "      <td>Apr 2016</td>\n",
       "      <td>Over pricedJust â?¹620 ..from retailer.I didn'...</td>\n",
       "      <td>1</td>\n",
       "    </tr>\n",
       "    <tr>\n",
       "      <th>...</th>\n",
       "      <td>...</td>\n",
       "      <td>...</td>\n",
       "      <td>...</td>\n",
       "      <td>...</td>\n",
       "      <td>...</td>\n",
       "      <td>...</td>\n",
       "      <td>...</td>\n",
       "      <td>...</td>\n",
       "    </tr>\n",
       "    <tr>\n",
       "      <th>8513</th>\n",
       "      <td>NaN</td>\n",
       "      <td>NaN</td>\n",
       "      <td>NaN</td>\n",
       "      <td>NaN</td>\n",
       "      <td>NaN</td>\n",
       "      <td>NaN</td>\n",
       "      <td>NaN</td>\n",
       "      <td>5</td>\n",
       "    </tr>\n",
       "    <tr>\n",
       "      <th>8514</th>\n",
       "      <td>NaN</td>\n",
       "      <td>NaN</td>\n",
       "      <td>NaN</td>\n",
       "      <td>NaN</td>\n",
       "      <td>NaN</td>\n",
       "      <td>NaN</td>\n",
       "      <td>NaN</td>\n",
       "      <td>2</td>\n",
       "    </tr>\n",
       "    <tr>\n",
       "      <th>8515</th>\n",
       "      <td>NaN</td>\n",
       "      <td>NaN</td>\n",
       "      <td>NaN</td>\n",
       "      <td>NaN</td>\n",
       "      <td>NaN</td>\n",
       "      <td>NaN</td>\n",
       "      <td>NaN</td>\n",
       "      <td>4</td>\n",
       "    </tr>\n",
       "    <tr>\n",
       "      <th>8516</th>\n",
       "      <td>NaN</td>\n",
       "      <td>NaN</td>\n",
       "      <td>NaN</td>\n",
       "      <td>NaN</td>\n",
       "      <td>NaN</td>\n",
       "      <td>NaN</td>\n",
       "      <td>NaN</td>\n",
       "      <td>1</td>\n",
       "    </tr>\n",
       "    <tr>\n",
       "      <th>8517</th>\n",
       "      <td>NaN</td>\n",
       "      <td>NaN</td>\n",
       "      <td>NaN</td>\n",
       "      <td>NaN</td>\n",
       "      <td>NaN</td>\n",
       "      <td>NaN</td>\n",
       "      <td>NaN</td>\n",
       "      <td>4</td>\n",
       "    </tr>\n",
       "  </tbody>\n",
       "</table>\n",
       "<p>8518 rows × 8 columns</p>\n",
       "</div>"
      ],
      "text/plain": [
       "               Reviewer Name               Review Title  \\\n",
       "0               Kamal Suresh               Nice product   \n",
       "1          Flipkart Customer     Don't waste your money   \n",
       "2     A. S. Raja Srinivasan   Did not meet expectations   \n",
       "3        Suresh Narayanasamy                       Fair   \n",
       "4                  ASHIK P A                Over priced   \n",
       "...                      ...                        ...   \n",
       "8513                     NaN                        NaN   \n",
       "8514                     NaN                        NaN   \n",
       "8515                     NaN                        NaN   \n",
       "8516                     NaN                        NaN   \n",
       "8517                     NaN                        NaN   \n",
       "\n",
       "                  Place of Review  Up Votes  Down Votes     Month  \\\n",
       "0      Certified Buyer, Chirakkal     889.0        64.0  Feb 2021   \n",
       "1      Certified Buyer, Hyderabad     109.0         6.0  Feb 2021   \n",
       "2     Certified Buyer, Dharmapuri      42.0         3.0  Apr 2021   \n",
       "3        Certified Buyer, Chennai      25.0         1.0       NaN   \n",
       "4                             NaN     147.0        24.0  Apr 2016   \n",
       "...                           ...       ...         ...       ...   \n",
       "8513                          NaN       NaN         NaN       NaN   \n",
       "8514                          NaN       NaN         NaN       NaN   \n",
       "8515                          NaN       NaN         NaN       NaN   \n",
       "8516                          NaN       NaN         NaN       NaN   \n",
       "8517                          NaN       NaN         NaN       NaN   \n",
       "\n",
       "                                            Review text  Ratings  \n",
       "0     Nice product, good quality, but price is now r...        4  \n",
       "1     They didn't supplied Yonex Mavis 350. Outside ...        1  \n",
       "2     Worst product. Damaged shuttlecocks packed in ...        1  \n",
       "3     Quite O. K. , but nowadays  the quality of the...        3  \n",
       "4     Over pricedJust â?¹620 ..from retailer.I didn'...        1  \n",
       "...                                                 ...      ...  \n",
       "8513                                                NaN        5  \n",
       "8514                                                NaN        2  \n",
       "8515                                                NaN        4  \n",
       "8516                                                NaN        1  \n",
       "8517                                                NaN        4  \n",
       "\n",
       "[8518 rows x 8 columns]"
      ]
     },
     "execution_count": 3,
     "metadata": {},
     "output_type": "execute_result"
    }
   ],
   "source": [
    "df"
   ]
  },
  {
   "cell_type": "code",
   "execution_count": 4,
   "id": "90769c11",
   "metadata": {},
   "outputs": [
    {
     "name": "stdout",
     "output_type": "stream",
     "text": [
      "<class 'pandas.core.frame.DataFrame'>\n",
      "RangeIndex: 8518 entries, 0 to 8517\n",
      "Data columns (total 8 columns):\n",
      " #   Column           Non-Null Count  Dtype  \n",
      "---  ------           --------------  -----  \n",
      " 0   Reviewer Name    8508 non-null   object \n",
      " 1   Review Title     8508 non-null   object \n",
      " 2   Place of Review  8468 non-null   object \n",
      " 3   Up Votes         8508 non-null   float64\n",
      " 4   Down Votes       8508 non-null   float64\n",
      " 5   Month            8053 non-null   object \n",
      " 6   Review text      8510 non-null   object \n",
      " 7   Ratings          8518 non-null   int64  \n",
      "dtypes: float64(2), int64(1), object(5)\n",
      "memory usage: 532.5+ KB\n"
     ]
    }
   ],
   "source": [
    "df.info()"
   ]
  },
  {
   "cell_type": "code",
   "execution_count": 5,
   "id": "ff0d87e3",
   "metadata": {},
   "outputs": [
    {
     "data": {
      "text/plain": [
       "4"
      ]
     },
     "execution_count": 5,
     "metadata": {},
     "output_type": "execute_result"
    }
   ],
   "source": [
    "df.duplicated().sum()"
   ]
  },
  {
   "cell_type": "code",
   "execution_count": 6,
   "id": "1acabb17",
   "metadata": {},
   "outputs": [],
   "source": [
    "df.drop_duplicates(inplace=True)"
   ]
  },
  {
   "cell_type": "code",
   "execution_count": 7,
   "id": "ba3ae48b",
   "metadata": {},
   "outputs": [
    {
     "data": {
      "text/plain": [
       "(8514, 8)"
      ]
     },
     "execution_count": 7,
     "metadata": {},
     "output_type": "execute_result"
    }
   ],
   "source": [
    "df.shape"
   ]
  },
  {
   "cell_type": "code",
   "execution_count": 8,
   "id": "5cff9eff",
   "metadata": {},
   "outputs": [
    {
     "data": {
      "text/plain": [
       "Reviewer Name        6\n",
       "Review Title         6\n",
       "Place of Review     46\n",
       "Up Votes             6\n",
       "Down Votes           6\n",
       "Month              461\n",
       "Review text          4\n",
       "Ratings              0\n",
       "dtype: int64"
      ]
     },
     "execution_count": 8,
     "metadata": {},
     "output_type": "execute_result"
    }
   ],
   "source": [
    "df.isna().sum()"
   ]
  },
  {
   "cell_type": "code",
   "execution_count": 9,
   "id": "8d1ef0fd",
   "metadata": {},
   "outputs": [
    {
     "data": {
      "text/html": [
       "<div>\n",
       "<style scoped>\n",
       "    .dataframe tbody tr th:only-of-type {\n",
       "        vertical-align: middle;\n",
       "    }\n",
       "\n",
       "    .dataframe tbody tr th {\n",
       "        vertical-align: top;\n",
       "    }\n",
       "\n",
       "    .dataframe thead th {\n",
       "        text-align: right;\n",
       "    }\n",
       "</style>\n",
       "<table border=\"1\" class=\"dataframe\">\n",
       "  <thead>\n",
       "    <tr style=\"text-align: right;\">\n",
       "      <th></th>\n",
       "      <th>Reviewer Name</th>\n",
       "      <th>Review Title</th>\n",
       "      <th>Place of Review</th>\n",
       "      <th>Up Votes</th>\n",
       "      <th>Down Votes</th>\n",
       "      <th>Month</th>\n",
       "      <th>Review text</th>\n",
       "      <th>Ratings</th>\n",
       "    </tr>\n",
       "  </thead>\n",
       "  <tbody>\n",
       "    <tr>\n",
       "      <th>0</th>\n",
       "      <td>NaN</td>\n",
       "      <td>NaN</td>\n",
       "      <td>NaN</td>\n",
       "      <td>NaN</td>\n",
       "      <td>NaN</td>\n",
       "      <td>NaN</td>\n",
       "      <td>NaN</td>\n",
       "      <td>NaN</td>\n",
       "    </tr>\n",
       "    <tr>\n",
       "      <th>1</th>\n",
       "      <td>NaN</td>\n",
       "      <td>NaN</td>\n",
       "      <td>NaN</td>\n",
       "      <td>NaN</td>\n",
       "      <td>NaN</td>\n",
       "      <td>NaN</td>\n",
       "      <td>NaN</td>\n",
       "      <td>NaN</td>\n",
       "    </tr>\n",
       "    <tr>\n",
       "      <th>2</th>\n",
       "      <td>NaN</td>\n",
       "      <td>NaN</td>\n",
       "      <td>NaN</td>\n",
       "      <td>NaN</td>\n",
       "      <td>NaN</td>\n",
       "      <td>NaN</td>\n",
       "      <td>NaN</td>\n",
       "      <td>NaN</td>\n",
       "    </tr>\n",
       "    <tr>\n",
       "      <th>3</th>\n",
       "      <td>NaN</td>\n",
       "      <td>NaN</td>\n",
       "      <td>NaN</td>\n",
       "      <td>NaN</td>\n",
       "      <td>NaN</td>\n",
       "      <td>NaN</td>\n",
       "      <td>NaN</td>\n",
       "      <td>NaN</td>\n",
       "    </tr>\n",
       "    <tr>\n",
       "      <th>4</th>\n",
       "      <td>NaN</td>\n",
       "      <td>NaN</td>\n",
       "      <td>NaN</td>\n",
       "      <td>NaN</td>\n",
       "      <td>NaN</td>\n",
       "      <td>NaN</td>\n",
       "      <td>NaN</td>\n",
       "      <td>NaN</td>\n",
       "    </tr>\n",
       "    <tr>\n",
       "      <th>...</th>\n",
       "      <td>...</td>\n",
       "      <td>...</td>\n",
       "      <td>...</td>\n",
       "      <td>...</td>\n",
       "      <td>...</td>\n",
       "      <td>...</td>\n",
       "      <td>...</td>\n",
       "      <td>...</td>\n",
       "    </tr>\n",
       "    <tr>\n",
       "      <th>8509</th>\n",
       "      <td>NaN</td>\n",
       "      <td>NaN</td>\n",
       "      <td>NaN</td>\n",
       "      <td>NaN</td>\n",
       "      <td>NaN</td>\n",
       "      <td>NaN</td>\n",
       "      <td>NaN</td>\n",
       "      <td>NaN</td>\n",
       "    </tr>\n",
       "    <tr>\n",
       "      <th>8510</th>\n",
       "      <td>NaN</td>\n",
       "      <td>NaN</td>\n",
       "      <td>NaN</td>\n",
       "      <td>NaN</td>\n",
       "      <td>NaN</td>\n",
       "      <td>NaN</td>\n",
       "      <td>NaN</td>\n",
       "      <td>NaN</td>\n",
       "    </tr>\n",
       "    <tr>\n",
       "      <th>8512</th>\n",
       "      <td>NaN</td>\n",
       "      <td>NaN</td>\n",
       "      <td>NaN</td>\n",
       "      <td>NaN</td>\n",
       "      <td>NaN</td>\n",
       "      <td>NaN</td>\n",
       "      <td>NaN</td>\n",
       "      <td>NaN</td>\n",
       "    </tr>\n",
       "    <tr>\n",
       "      <th>8513</th>\n",
       "      <td>NaN</td>\n",
       "      <td>NaN</td>\n",
       "      <td>NaN</td>\n",
       "      <td>NaN</td>\n",
       "      <td>NaN</td>\n",
       "      <td>NaN</td>\n",
       "      <td>NaN</td>\n",
       "      <td>NaN</td>\n",
       "    </tr>\n",
       "    <tr>\n",
       "      <th>8515</th>\n",
       "      <td>NaN</td>\n",
       "      <td>NaN</td>\n",
       "      <td>NaN</td>\n",
       "      <td>NaN</td>\n",
       "      <td>NaN</td>\n",
       "      <td>NaN</td>\n",
       "      <td>NaN</td>\n",
       "      <td>NaN</td>\n",
       "    </tr>\n",
       "  </tbody>\n",
       "</table>\n",
       "<p>8514 rows × 8 columns</p>\n",
       "</div>"
      ],
      "text/plain": [
       "     Reviewer Name Review Title Place of Review  Up Votes  Down Votes Month  \\\n",
       "0              NaN          NaN             NaN       NaN         NaN   NaN   \n",
       "1              NaN          NaN             NaN       NaN         NaN   NaN   \n",
       "2              NaN          NaN             NaN       NaN         NaN   NaN   \n",
       "3              NaN          NaN             NaN       NaN         NaN   NaN   \n",
       "4              NaN          NaN             NaN       NaN         NaN   NaN   \n",
       "...            ...          ...             ...       ...         ...   ...   \n",
       "8509           NaN          NaN             NaN       NaN         NaN   NaN   \n",
       "8510           NaN          NaN             NaN       NaN         NaN   NaN   \n",
       "8512           NaN          NaN             NaN       NaN         NaN   NaN   \n",
       "8513           NaN          NaN             NaN       NaN         NaN   NaN   \n",
       "8515           NaN          NaN             NaN       NaN         NaN   NaN   \n",
       "\n",
       "     Review text  Ratings  \n",
       "0            NaN      NaN  \n",
       "1            NaN      NaN  \n",
       "2            NaN      NaN  \n",
       "3            NaN      NaN  \n",
       "4            NaN      NaN  \n",
       "...          ...      ...  \n",
       "8509         NaN      NaN  \n",
       "8510         NaN      NaN  \n",
       "8512         NaN      NaN  \n",
       "8513         NaN      NaN  \n",
       "8515         NaN      NaN  \n",
       "\n",
       "[8514 rows x 8 columns]"
      ]
     },
     "execution_count": 9,
     "metadata": {},
     "output_type": "execute_result"
    }
   ],
   "source": [
    "df[df.isna()]"
   ]
  },
  {
   "cell_type": "code",
   "execution_count": 10,
   "id": "72f78461",
   "metadata": {},
   "outputs": [
    {
     "data": {
      "text/html": [
       "<div>\n",
       "<style scoped>\n",
       "    .dataframe tbody tr th:only-of-type {\n",
       "        vertical-align: middle;\n",
       "    }\n",
       "\n",
       "    .dataframe tbody tr th {\n",
       "        vertical-align: top;\n",
       "    }\n",
       "\n",
       "    .dataframe thead th {\n",
       "        text-align: right;\n",
       "    }\n",
       "</style>\n",
       "<table border=\"1\" class=\"dataframe\">\n",
       "  <thead>\n",
       "    <tr style=\"text-align: right;\">\n",
       "      <th></th>\n",
       "      <th>Reviewer Name</th>\n",
       "      <th>Review Title</th>\n",
       "      <th>Place of Review</th>\n",
       "      <th>Up Votes</th>\n",
       "      <th>Down Votes</th>\n",
       "      <th>Month</th>\n",
       "      <th>Review text</th>\n",
       "      <th>Ratings</th>\n",
       "    </tr>\n",
       "  </thead>\n",
       "  <tbody>\n",
       "    <tr>\n",
       "      <th>0</th>\n",
       "      <td>Kamal Suresh</td>\n",
       "      <td>Nice product</td>\n",
       "      <td>Certified Buyer, Chirakkal</td>\n",
       "      <td>889.0</td>\n",
       "      <td>64.0</td>\n",
       "      <td>Feb 2021</td>\n",
       "      <td>Nice product, good quality, but price is now r...</td>\n",
       "      <td>4</td>\n",
       "    </tr>\n",
       "    <tr>\n",
       "      <th>1</th>\n",
       "      <td>Flipkart Customer</td>\n",
       "      <td>Don't waste your money</td>\n",
       "      <td>Certified Buyer, Hyderabad</td>\n",
       "      <td>109.0</td>\n",
       "      <td>6.0</td>\n",
       "      <td>Feb 2021</td>\n",
       "      <td>They didn't supplied Yonex Mavis 350. Outside ...</td>\n",
       "      <td>1</td>\n",
       "    </tr>\n",
       "    <tr>\n",
       "      <th>2</th>\n",
       "      <td>A. S. Raja Srinivasan</td>\n",
       "      <td>Did not meet expectations</td>\n",
       "      <td>Certified Buyer, Dharmapuri</td>\n",
       "      <td>42.0</td>\n",
       "      <td>3.0</td>\n",
       "      <td>Apr 2021</td>\n",
       "      <td>Worst product. Damaged shuttlecocks packed in ...</td>\n",
       "      <td>1</td>\n",
       "    </tr>\n",
       "    <tr>\n",
       "      <th>3</th>\n",
       "      <td>Suresh Narayanasamy</td>\n",
       "      <td>Fair</td>\n",
       "      <td>Certified Buyer, Chennai</td>\n",
       "      <td>25.0</td>\n",
       "      <td>1.0</td>\n",
       "      <td>NaN</td>\n",
       "      <td>Quite O. K. , but nowadays  the quality of the...</td>\n",
       "      <td>3</td>\n",
       "    </tr>\n",
       "    <tr>\n",
       "      <th>4</th>\n",
       "      <td>ASHIK P A</td>\n",
       "      <td>Over priced</td>\n",
       "      <td>NaN</td>\n",
       "      <td>147.0</td>\n",
       "      <td>24.0</td>\n",
       "      <td>Apr 2016</td>\n",
       "      <td>Over pricedJust â?¹620 ..from retailer.I didn'...</td>\n",
       "      <td>1</td>\n",
       "    </tr>\n",
       "    <tr>\n",
       "      <th>...</th>\n",
       "      <td>...</td>\n",
       "      <td>...</td>\n",
       "      <td>...</td>\n",
       "      <td>...</td>\n",
       "      <td>...</td>\n",
       "      <td>...</td>\n",
       "      <td>...</td>\n",
       "      <td>...</td>\n",
       "    </tr>\n",
       "    <tr>\n",
       "      <th>8509</th>\n",
       "      <td>NaN</td>\n",
       "      <td>NaN</td>\n",
       "      <td>NaN</td>\n",
       "      <td>NaN</td>\n",
       "      <td>NaN</td>\n",
       "      <td>NaN</td>\n",
       "      <td>Not sure why we have charged for this product ...</td>\n",
       "      <td>1</td>\n",
       "    </tr>\n",
       "    <tr>\n",
       "      <th>8510</th>\n",
       "      <td>NaN</td>\n",
       "      <td>NaN</td>\n",
       "      <td>NaN</td>\n",
       "      <td>NaN</td>\n",
       "      <td>NaN</td>\n",
       "      <td>NaN</td>\n",
       "      <td>NaN</td>\n",
       "      <td>1</td>\n",
       "    </tr>\n",
       "    <tr>\n",
       "      <th>8512</th>\n",
       "      <td>NaN</td>\n",
       "      <td>NaN</td>\n",
       "      <td>NaN</td>\n",
       "      <td>NaN</td>\n",
       "      <td>NaN</td>\n",
       "      <td>NaN</td>\n",
       "      <td>NaN</td>\n",
       "      <td>2</td>\n",
       "    </tr>\n",
       "    <tr>\n",
       "      <th>8513</th>\n",
       "      <td>NaN</td>\n",
       "      <td>NaN</td>\n",
       "      <td>NaN</td>\n",
       "      <td>NaN</td>\n",
       "      <td>NaN</td>\n",
       "      <td>NaN</td>\n",
       "      <td>NaN</td>\n",
       "      <td>5</td>\n",
       "    </tr>\n",
       "    <tr>\n",
       "      <th>8515</th>\n",
       "      <td>NaN</td>\n",
       "      <td>NaN</td>\n",
       "      <td>NaN</td>\n",
       "      <td>NaN</td>\n",
       "      <td>NaN</td>\n",
       "      <td>NaN</td>\n",
       "      <td>NaN</td>\n",
       "      <td>4</td>\n",
       "    </tr>\n",
       "  </tbody>\n",
       "</table>\n",
       "<p>8514 rows × 8 columns</p>\n",
       "</div>"
      ],
      "text/plain": [
       "               Reviewer Name               Review Title  \\\n",
       "0               Kamal Suresh               Nice product   \n",
       "1          Flipkart Customer     Don't waste your money   \n",
       "2     A. S. Raja Srinivasan   Did not meet expectations   \n",
       "3        Suresh Narayanasamy                       Fair   \n",
       "4                  ASHIK P A                Over priced   \n",
       "...                      ...                        ...   \n",
       "8509                     NaN                        NaN   \n",
       "8510                     NaN                        NaN   \n",
       "8512                     NaN                        NaN   \n",
       "8513                     NaN                        NaN   \n",
       "8515                     NaN                        NaN   \n",
       "\n",
       "                  Place of Review  Up Votes  Down Votes     Month  \\\n",
       "0      Certified Buyer, Chirakkal     889.0        64.0  Feb 2021   \n",
       "1      Certified Buyer, Hyderabad     109.0         6.0  Feb 2021   \n",
       "2     Certified Buyer, Dharmapuri      42.0         3.0  Apr 2021   \n",
       "3        Certified Buyer, Chennai      25.0         1.0       NaN   \n",
       "4                             NaN     147.0        24.0  Apr 2016   \n",
       "...                           ...       ...         ...       ...   \n",
       "8509                          NaN       NaN         NaN       NaN   \n",
       "8510                          NaN       NaN         NaN       NaN   \n",
       "8512                          NaN       NaN         NaN       NaN   \n",
       "8513                          NaN       NaN         NaN       NaN   \n",
       "8515                          NaN       NaN         NaN       NaN   \n",
       "\n",
       "                                            Review text  Ratings  \n",
       "0     Nice product, good quality, but price is now r...        4  \n",
       "1     They didn't supplied Yonex Mavis 350. Outside ...        1  \n",
       "2     Worst product. Damaged shuttlecocks packed in ...        1  \n",
       "3     Quite O. K. , but nowadays  the quality of the...        3  \n",
       "4     Over pricedJust â?¹620 ..from retailer.I didn'...        1  \n",
       "...                                                 ...      ...  \n",
       "8509  Not sure why we have charged for this product ...        1  \n",
       "8510                                                NaN        1  \n",
       "8512                                                NaN        2  \n",
       "8513                                                NaN        5  \n",
       "8515                                                NaN        4  \n",
       "\n",
       "[8514 rows x 8 columns]"
      ]
     },
     "execution_count": 10,
     "metadata": {},
     "output_type": "execute_result"
    }
   ],
   "source": [
    "df"
   ]
  },
  {
   "cell_type": "code",
   "execution_count": 11,
   "id": "42bce333",
   "metadata": {},
   "outputs": [],
   "source": [
    "df.columns = df.columns.str.lower()"
   ]
  },
  {
   "cell_type": "code",
   "execution_count": 12,
   "id": "0bb41884",
   "metadata": {},
   "outputs": [
    {
     "data": {
      "text/html": [
       "<div>\n",
       "<style scoped>\n",
       "    .dataframe tbody tr th:only-of-type {\n",
       "        vertical-align: middle;\n",
       "    }\n",
       "\n",
       "    .dataframe tbody tr th {\n",
       "        vertical-align: top;\n",
       "    }\n",
       "\n",
       "    .dataframe thead th {\n",
       "        text-align: right;\n",
       "    }\n",
       "</style>\n",
       "<table border=\"1\" class=\"dataframe\">\n",
       "  <thead>\n",
       "    <tr style=\"text-align: right;\">\n",
       "      <th></th>\n",
       "      <th>reviewer name</th>\n",
       "      <th>review title</th>\n",
       "      <th>place of review</th>\n",
       "      <th>up votes</th>\n",
       "      <th>down votes</th>\n",
       "      <th>month</th>\n",
       "      <th>review text</th>\n",
       "      <th>ratings</th>\n",
       "    </tr>\n",
       "  </thead>\n",
       "  <tbody>\n",
       "    <tr>\n",
       "      <th>0</th>\n",
       "      <td>Kamal Suresh</td>\n",
       "      <td>Nice product</td>\n",
       "      <td>Certified Buyer, Chirakkal</td>\n",
       "      <td>889.0</td>\n",
       "      <td>64.0</td>\n",
       "      <td>Feb 2021</td>\n",
       "      <td>Nice product, good quality, but price is now r...</td>\n",
       "      <td>4</td>\n",
       "    </tr>\n",
       "    <tr>\n",
       "      <th>1</th>\n",
       "      <td>Flipkart Customer</td>\n",
       "      <td>Don't waste your money</td>\n",
       "      <td>Certified Buyer, Hyderabad</td>\n",
       "      <td>109.0</td>\n",
       "      <td>6.0</td>\n",
       "      <td>Feb 2021</td>\n",
       "      <td>They didn't supplied Yonex Mavis 350. Outside ...</td>\n",
       "      <td>1</td>\n",
       "    </tr>\n",
       "    <tr>\n",
       "      <th>2</th>\n",
       "      <td>A. S. Raja Srinivasan</td>\n",
       "      <td>Did not meet expectations</td>\n",
       "      <td>Certified Buyer, Dharmapuri</td>\n",
       "      <td>42.0</td>\n",
       "      <td>3.0</td>\n",
       "      <td>Apr 2021</td>\n",
       "      <td>Worst product. Damaged shuttlecocks packed in ...</td>\n",
       "      <td>1</td>\n",
       "    </tr>\n",
       "    <tr>\n",
       "      <th>3</th>\n",
       "      <td>Suresh Narayanasamy</td>\n",
       "      <td>Fair</td>\n",
       "      <td>Certified Buyer, Chennai</td>\n",
       "      <td>25.0</td>\n",
       "      <td>1.0</td>\n",
       "      <td>NaN</td>\n",
       "      <td>Quite O. K. , but nowadays  the quality of the...</td>\n",
       "      <td>3</td>\n",
       "    </tr>\n",
       "    <tr>\n",
       "      <th>4</th>\n",
       "      <td>ASHIK P A</td>\n",
       "      <td>Over priced</td>\n",
       "      <td>NaN</td>\n",
       "      <td>147.0</td>\n",
       "      <td>24.0</td>\n",
       "      <td>Apr 2016</td>\n",
       "      <td>Over pricedJust â?¹620 ..from retailer.I didn'...</td>\n",
       "      <td>1</td>\n",
       "    </tr>\n",
       "    <tr>\n",
       "      <th>...</th>\n",
       "      <td>...</td>\n",
       "      <td>...</td>\n",
       "      <td>...</td>\n",
       "      <td>...</td>\n",
       "      <td>...</td>\n",
       "      <td>...</td>\n",
       "      <td>...</td>\n",
       "      <td>...</td>\n",
       "    </tr>\n",
       "    <tr>\n",
       "      <th>8509</th>\n",
       "      <td>NaN</td>\n",
       "      <td>NaN</td>\n",
       "      <td>NaN</td>\n",
       "      <td>NaN</td>\n",
       "      <td>NaN</td>\n",
       "      <td>NaN</td>\n",
       "      <td>Not sure why we have charged for this product ...</td>\n",
       "      <td>1</td>\n",
       "    </tr>\n",
       "    <tr>\n",
       "      <th>8510</th>\n",
       "      <td>NaN</td>\n",
       "      <td>NaN</td>\n",
       "      <td>NaN</td>\n",
       "      <td>NaN</td>\n",
       "      <td>NaN</td>\n",
       "      <td>NaN</td>\n",
       "      <td>NaN</td>\n",
       "      <td>1</td>\n",
       "    </tr>\n",
       "    <tr>\n",
       "      <th>8512</th>\n",
       "      <td>NaN</td>\n",
       "      <td>NaN</td>\n",
       "      <td>NaN</td>\n",
       "      <td>NaN</td>\n",
       "      <td>NaN</td>\n",
       "      <td>NaN</td>\n",
       "      <td>NaN</td>\n",
       "      <td>2</td>\n",
       "    </tr>\n",
       "    <tr>\n",
       "      <th>8513</th>\n",
       "      <td>NaN</td>\n",
       "      <td>NaN</td>\n",
       "      <td>NaN</td>\n",
       "      <td>NaN</td>\n",
       "      <td>NaN</td>\n",
       "      <td>NaN</td>\n",
       "      <td>NaN</td>\n",
       "      <td>5</td>\n",
       "    </tr>\n",
       "    <tr>\n",
       "      <th>8515</th>\n",
       "      <td>NaN</td>\n",
       "      <td>NaN</td>\n",
       "      <td>NaN</td>\n",
       "      <td>NaN</td>\n",
       "      <td>NaN</td>\n",
       "      <td>NaN</td>\n",
       "      <td>NaN</td>\n",
       "      <td>4</td>\n",
       "    </tr>\n",
       "  </tbody>\n",
       "</table>\n",
       "<p>8514 rows × 8 columns</p>\n",
       "</div>"
      ],
      "text/plain": [
       "               reviewer name               review title  \\\n",
       "0               Kamal Suresh               Nice product   \n",
       "1          Flipkart Customer     Don't waste your money   \n",
       "2     A. S. Raja Srinivasan   Did not meet expectations   \n",
       "3        Suresh Narayanasamy                       Fair   \n",
       "4                  ASHIK P A                Over priced   \n",
       "...                      ...                        ...   \n",
       "8509                     NaN                        NaN   \n",
       "8510                     NaN                        NaN   \n",
       "8512                     NaN                        NaN   \n",
       "8513                     NaN                        NaN   \n",
       "8515                     NaN                        NaN   \n",
       "\n",
       "                  place of review  up votes  down votes     month  \\\n",
       "0      Certified Buyer, Chirakkal     889.0        64.0  Feb 2021   \n",
       "1      Certified Buyer, Hyderabad     109.0         6.0  Feb 2021   \n",
       "2     Certified Buyer, Dharmapuri      42.0         3.0  Apr 2021   \n",
       "3        Certified Buyer, Chennai      25.0         1.0       NaN   \n",
       "4                             NaN     147.0        24.0  Apr 2016   \n",
       "...                           ...       ...         ...       ...   \n",
       "8509                          NaN       NaN         NaN       NaN   \n",
       "8510                          NaN       NaN         NaN       NaN   \n",
       "8512                          NaN       NaN         NaN       NaN   \n",
       "8513                          NaN       NaN         NaN       NaN   \n",
       "8515                          NaN       NaN         NaN       NaN   \n",
       "\n",
       "                                            review text  ratings  \n",
       "0     Nice product, good quality, but price is now r...        4  \n",
       "1     They didn't supplied Yonex Mavis 350. Outside ...        1  \n",
       "2     Worst product. Damaged shuttlecocks packed in ...        1  \n",
       "3     Quite O. K. , but nowadays  the quality of the...        3  \n",
       "4     Over pricedJust â?¹620 ..from retailer.I didn'...        1  \n",
       "...                                                 ...      ...  \n",
       "8509  Not sure why we have charged for this product ...        1  \n",
       "8510                                                NaN        1  \n",
       "8512                                                NaN        2  \n",
       "8513                                                NaN        5  \n",
       "8515                                                NaN        4  \n",
       "\n",
       "[8514 rows x 8 columns]"
      ]
     },
     "execution_count": 12,
     "metadata": {},
     "output_type": "execute_result"
    }
   ],
   "source": [
    "df"
   ]
  },
  {
   "cell_type": "code",
   "execution_count": 13,
   "id": "c90d743b",
   "metadata": {},
   "outputs": [
    {
     "data": {
      "text/plain": [
       "count                  8508\n",
       "unique                 6243\n",
       "top       Flipkart Customer\n",
       "freq                   2098\n",
       "Name: reviewer name, dtype: object"
      ]
     },
     "execution_count": 13,
     "metadata": {},
     "output_type": "execute_result"
    }
   ],
   "source": [
    "df['reviewer name'].describe()"
   ]
  },
  {
   "cell_type": "code",
   "execution_count": 14,
   "id": "bb2c30cb",
   "metadata": {},
   "outputs": [
    {
     "data": {
      "text/plain": [
       "6"
      ]
     },
     "execution_count": 14,
     "metadata": {},
     "output_type": "execute_result"
    }
   ],
   "source": [
    "df['reviewer name'].isna().sum()"
   ]
  },
  {
   "cell_type": "code",
   "execution_count": 15,
   "id": "5594911e",
   "metadata": {},
   "outputs": [
    {
     "data": {
      "text/plain": [
       "reviewer name\n",
       "Flipkart Customer       2098\n",
       "My Account                11\n",
       "Praveen Kumar              6\n",
       "Rajesh Kumar               5\n",
       "Santhosh Kumar             5\n",
       "                        ... \n",
       "MANOHAR PAIGHAN            1\n",
       "Abhijith KV                1\n",
       "SURIDDHA MUNSHI            1\n",
       "Kudge Kupendrareddy        1\n",
       "vishnu varma               1\n",
       "Name: count, Length: 6243, dtype: int64"
      ]
     },
     "execution_count": 15,
     "metadata": {},
     "output_type": "execute_result"
    }
   ],
   "source": [
    "df['reviewer name'].value_counts()"
   ]
  },
  {
   "cell_type": "code",
   "execution_count": 16,
   "id": "40030b29",
   "metadata": {},
   "outputs": [],
   "source": [
    "df['reviewer name'].fillna('other',inplace=True)"
   ]
  },
  {
   "cell_type": "code",
   "execution_count": 17,
   "id": "11396f4e",
   "metadata": {},
   "outputs": [
    {
     "data": {
      "text/plain": [
       "0"
      ]
     },
     "execution_count": 17,
     "metadata": {},
     "output_type": "execute_result"
    }
   ],
   "source": [
    "df['reviewer name'].isna().sum()"
   ]
  },
  {
   "cell_type": "code",
   "execution_count": null,
   "id": "23902a81",
   "metadata": {},
   "outputs": [],
   "source": []
  },
  {
   "cell_type": "code",
   "execution_count": 18,
   "id": "6ec020f8",
   "metadata": {},
   "outputs": [
    {
     "data": {
      "text/plain": [
       "count          8508\n",
       "unique          194\n",
       "top       Wonderful\n",
       "freq            416\n",
       "Name: review title, dtype: object"
      ]
     },
     "execution_count": 18,
     "metadata": {},
     "output_type": "execute_result"
    }
   ],
   "source": [
    "df['review title'].describe()"
   ]
  },
  {
   "cell_type": "code",
   "execution_count": 19,
   "id": "8ef9fde5",
   "metadata": {},
   "outputs": [
    {
     "data": {
      "text/plain": [
       "6"
      ]
     },
     "execution_count": 19,
     "metadata": {},
     "output_type": "execute_result"
    }
   ],
   "source": [
    "df['review title'].isna().sum()"
   ]
  },
  {
   "cell_type": "code",
   "execution_count": 20,
   "id": "800d9bb9",
   "metadata": {},
   "outputs": [],
   "source": [
    "df['review title'].fillna('other',inplace=True)"
   ]
  },
  {
   "cell_type": "code",
   "execution_count": 21,
   "id": "4626a2c9",
   "metadata": {},
   "outputs": [
    {
     "data": {
      "text/plain": [
       "review title\n",
       "Wonderful                                       416\n",
       "Brilliant                                       303\n",
       "Classy product                                  299\n",
       "Excellent                                       298\n",
       "Perfect product!                                295\n",
       "                                               ... \n",
       "Happy.                                            1\n",
       "Great shuttle but wised if it’s more durable      1\n",
       "Better game play experience                       1\n",
       "awesome shuttle                                   1\n",
       "playing with this since very long                 1\n",
       "Name: count, Length: 195, dtype: int64"
      ]
     },
     "execution_count": 21,
     "metadata": {},
     "output_type": "execute_result"
    }
   ],
   "source": [
    "df['review title'].value_counts()"
   ]
  },
  {
   "cell_type": "code",
   "execution_count": 22,
   "id": "4789c6f3",
   "metadata": {},
   "outputs": [],
   "source": [
    "df['review title'] = df['review title'].str.lower()"
   ]
  },
  {
   "cell_type": "code",
   "execution_count": 23,
   "id": "f8d29d42",
   "metadata": {},
   "outputs": [
    {
     "data": {
      "text/plain": [
       "0                    nice product\n",
       "1          don't waste your money\n",
       "2       did not meet expectations\n",
       "3                            fair\n",
       "4                     over priced\n",
       "                  ...            \n",
       "8509                        other\n",
       "8510                        other\n",
       "8512                        other\n",
       "8513                        other\n",
       "8515                        other\n",
       "Name: review title, Length: 8514, dtype: object"
      ]
     },
     "execution_count": 23,
     "metadata": {},
     "output_type": "execute_result"
    }
   ],
   "source": [
    "df['review title']"
   ]
  },
  {
   "cell_type": "code",
   "execution_count": null,
   "id": "e573dd9d",
   "metadata": {},
   "outputs": [],
   "source": []
  },
  {
   "cell_type": "code",
   "execution_count": 24,
   "id": "00c6310d",
   "metadata": {},
   "outputs": [
    {
     "data": {
      "text/plain": [
       "count                           8468\n",
       "unique                          2337\n",
       "top       Certified Buyer, Bengaluru\n",
       "freq                             319\n",
       "Name: place of review, dtype: object"
      ]
     },
     "execution_count": 24,
     "metadata": {},
     "output_type": "execute_result"
    }
   ],
   "source": [
    "df['place of review'].describe()"
   ]
  },
  {
   "cell_type": "code",
   "execution_count": 25,
   "id": "43291a36",
   "metadata": {},
   "outputs": [
    {
     "data": {
      "text/plain": [
       "place of review\n",
       "Certified Buyer, Bengaluru          319\n",
       "Certified Buyer, Hyderabad          251\n",
       "Certified Buyer, Chennai            240\n",
       "Certified Buyer, Bangalore          212\n",
       "Certified Buyer, New Delhi          155\n",
       "                                   ... \n",
       "Certified Buyer, Dhubri District      1\n",
       "Certified Buyer, Kathanian            1\n",
       "Certified Buyer, Rajnagar             1\n",
       "Certified Buyer, Gundlupet            1\n",
       "Certified Buyer, Raebareli            1\n",
       "Name: count, Length: 2337, dtype: int64"
      ]
     },
     "execution_count": 25,
     "metadata": {},
     "output_type": "execute_result"
    }
   ],
   "source": [
    "df['place of review'].value_counts()"
   ]
  },
  {
   "cell_type": "code",
   "execution_count": 26,
   "id": "3e1c6b13",
   "metadata": {},
   "outputs": [],
   "source": [
    "#count = df['place of review'].apply(lambda x : sum += sum if re.findall(r'Certified Buyer',x) else pass)"
   ]
  },
  {
   "cell_type": "code",
   "execution_count": 27,
   "id": "3104dd08",
   "metadata": {},
   "outputs": [],
   "source": [
    "#total_count = df['place of review'].apply(lambda x : x.count('Certified Buyer')).sum()"
   ]
  },
  {
   "cell_type": "code",
   "execution_count": 28,
   "id": "9a77fd9f",
   "metadata": {},
   "outputs": [],
   "source": [
    "total_count = df['place of review'].apply(lambda x : x.count('Certified Buyer') if isinstance(x, str) else 0).sum()\n"
   ]
  },
  {
   "cell_type": "code",
   "execution_count": 29,
   "id": "b19eb43d",
   "metadata": {},
   "outputs": [
    {
     "data": {
      "text/plain": [
       "46"
      ]
     },
     "execution_count": 29,
     "metadata": {},
     "output_type": "execute_result"
    }
   ],
   "source": [
    "len(df['place of review']) - total_count"
   ]
  },
  {
   "cell_type": "code",
   "execution_count": 30,
   "id": "5367c62a",
   "metadata": {},
   "outputs": [],
   "source": [
    "df['certified buyer'] = df['place of review'].apply(lambda x : 1 if isinstance(x,str) and 'Certified Buyer' in x else 0 )"
   ]
  },
  {
   "cell_type": "code",
   "execution_count": 31,
   "id": "54ad7eb3",
   "metadata": {},
   "outputs": [
    {
     "data": {
      "text/plain": [
       "certified buyer\n",
       "1    8468\n",
       "0      46\n",
       "Name: count, dtype: int64"
      ]
     },
     "execution_count": 31,
     "metadata": {},
     "output_type": "execute_result"
    }
   ],
   "source": [
    "df['certified buyer'].value_counts()"
   ]
  },
  {
   "cell_type": "code",
   "execution_count": 32,
   "id": "7340ee84",
   "metadata": {},
   "outputs": [],
   "source": [
    "df['place of review'] = df['place of review'].apply(lambda x : re.sub(r'Certified Buyer,','',x) if isinstance(x,str) else x)"
   ]
  },
  {
   "cell_type": "code",
   "execution_count": 33,
   "id": "9245ccec",
   "metadata": {},
   "outputs": [],
   "source": [
    "df['place of review'] = df['place of review'].str.strip()"
   ]
  },
  {
   "cell_type": "code",
   "execution_count": 34,
   "id": "8e8f56fd",
   "metadata": {},
   "outputs": [
    {
     "data": {
      "text/plain": [
       "place of review\n",
       "Bengaluru          319\n",
       "Hyderabad          251\n",
       "Chennai            240\n",
       "Bangalore          212\n",
       "New Delhi          155\n",
       "                  ... \n",
       "Dhubri District      1\n",
       "Kathanian            1\n",
       "Rajnagar             1\n",
       "Gundlupet            1\n",
       "Raebareli            1\n",
       "Name: count, Length: 2337, dtype: int64"
      ]
     },
     "execution_count": 34,
     "metadata": {},
     "output_type": "execute_result"
    }
   ],
   "source": [
    "df['place of review'].value_counts()"
   ]
  },
  {
   "cell_type": "code",
   "execution_count": 35,
   "id": "468565de",
   "metadata": {},
   "outputs": [],
   "source": [
    "df['place of review'] = df['place of review'].str.lower()"
   ]
  },
  {
   "cell_type": "code",
   "execution_count": 36,
   "id": "c8b03de5",
   "metadata": {},
   "outputs": [
    {
     "data": {
      "text/plain": [
       "46"
      ]
     },
     "execution_count": 36,
     "metadata": {},
     "output_type": "execute_result"
    }
   ],
   "source": [
    "df['place of review'].isna().sum()"
   ]
  },
  {
   "cell_type": "code",
   "execution_count": 37,
   "id": "7d91ea78",
   "metadata": {},
   "outputs": [],
   "source": [
    "df['place of review'].fillna('other',inplace=True)"
   ]
  },
  {
   "cell_type": "code",
   "execution_count": 38,
   "id": "423d6083",
   "metadata": {},
   "outputs": [
    {
     "data": {
      "text/plain": [
       "0"
      ]
     },
     "execution_count": 38,
     "metadata": {},
     "output_type": "execute_result"
    }
   ],
   "source": [
    "df['place of review'].isna().sum()"
   ]
  },
  {
   "cell_type": "code",
   "execution_count": 39,
   "id": "db77605d",
   "metadata": {},
   "outputs": [
    {
     "data": {
      "text/html": [
       "<div>\n",
       "<style scoped>\n",
       "    .dataframe tbody tr th:only-of-type {\n",
       "        vertical-align: middle;\n",
       "    }\n",
       "\n",
       "    .dataframe tbody tr th {\n",
       "        vertical-align: top;\n",
       "    }\n",
       "\n",
       "    .dataframe thead th {\n",
       "        text-align: right;\n",
       "    }\n",
       "</style>\n",
       "<table border=\"1\" class=\"dataframe\">\n",
       "  <thead>\n",
       "    <tr style=\"text-align: right;\">\n",
       "      <th></th>\n",
       "      <th>reviewer name</th>\n",
       "      <th>review title</th>\n",
       "      <th>place of review</th>\n",
       "      <th>up votes</th>\n",
       "      <th>down votes</th>\n",
       "      <th>month</th>\n",
       "      <th>review text</th>\n",
       "      <th>ratings</th>\n",
       "      <th>certified buyer</th>\n",
       "    </tr>\n",
       "  </thead>\n",
       "  <tbody>\n",
       "    <tr>\n",
       "      <th>0</th>\n",
       "      <td>Kamal Suresh</td>\n",
       "      <td>nice product</td>\n",
       "      <td>chirakkal</td>\n",
       "      <td>889.0</td>\n",
       "      <td>64.0</td>\n",
       "      <td>Feb 2021</td>\n",
       "      <td>Nice product, good quality, but price is now r...</td>\n",
       "      <td>4</td>\n",
       "      <td>1</td>\n",
       "    </tr>\n",
       "    <tr>\n",
       "      <th>1</th>\n",
       "      <td>Flipkart Customer</td>\n",
       "      <td>don't waste your money</td>\n",
       "      <td>hyderabad</td>\n",
       "      <td>109.0</td>\n",
       "      <td>6.0</td>\n",
       "      <td>Feb 2021</td>\n",
       "      <td>They didn't supplied Yonex Mavis 350. Outside ...</td>\n",
       "      <td>1</td>\n",
       "      <td>1</td>\n",
       "    </tr>\n",
       "    <tr>\n",
       "      <th>2</th>\n",
       "      <td>A. S. Raja Srinivasan</td>\n",
       "      <td>did not meet expectations</td>\n",
       "      <td>dharmapuri</td>\n",
       "      <td>42.0</td>\n",
       "      <td>3.0</td>\n",
       "      <td>Apr 2021</td>\n",
       "      <td>Worst product. Damaged shuttlecocks packed in ...</td>\n",
       "      <td>1</td>\n",
       "      <td>1</td>\n",
       "    </tr>\n",
       "    <tr>\n",
       "      <th>3</th>\n",
       "      <td>Suresh Narayanasamy</td>\n",
       "      <td>fair</td>\n",
       "      <td>chennai</td>\n",
       "      <td>25.0</td>\n",
       "      <td>1.0</td>\n",
       "      <td>NaN</td>\n",
       "      <td>Quite O. K. , but nowadays  the quality of the...</td>\n",
       "      <td>3</td>\n",
       "      <td>1</td>\n",
       "    </tr>\n",
       "    <tr>\n",
       "      <th>4</th>\n",
       "      <td>ASHIK P A</td>\n",
       "      <td>over priced</td>\n",
       "      <td>other</td>\n",
       "      <td>147.0</td>\n",
       "      <td>24.0</td>\n",
       "      <td>Apr 2016</td>\n",
       "      <td>Over pricedJust â?¹620 ..from retailer.I didn'...</td>\n",
       "      <td>1</td>\n",
       "      <td>0</td>\n",
       "    </tr>\n",
       "    <tr>\n",
       "      <th>...</th>\n",
       "      <td>...</td>\n",
       "      <td>...</td>\n",
       "      <td>...</td>\n",
       "      <td>...</td>\n",
       "      <td>...</td>\n",
       "      <td>...</td>\n",
       "      <td>...</td>\n",
       "      <td>...</td>\n",
       "      <td>...</td>\n",
       "    </tr>\n",
       "    <tr>\n",
       "      <th>8509</th>\n",
       "      <td>other</td>\n",
       "      <td>other</td>\n",
       "      <td>other</td>\n",
       "      <td>NaN</td>\n",
       "      <td>NaN</td>\n",
       "      <td>NaN</td>\n",
       "      <td>Not sure why we have charged for this product ...</td>\n",
       "      <td>1</td>\n",
       "      <td>0</td>\n",
       "    </tr>\n",
       "    <tr>\n",
       "      <th>8510</th>\n",
       "      <td>other</td>\n",
       "      <td>other</td>\n",
       "      <td>other</td>\n",
       "      <td>NaN</td>\n",
       "      <td>NaN</td>\n",
       "      <td>NaN</td>\n",
       "      <td>NaN</td>\n",
       "      <td>1</td>\n",
       "      <td>0</td>\n",
       "    </tr>\n",
       "    <tr>\n",
       "      <th>8512</th>\n",
       "      <td>other</td>\n",
       "      <td>other</td>\n",
       "      <td>other</td>\n",
       "      <td>NaN</td>\n",
       "      <td>NaN</td>\n",
       "      <td>NaN</td>\n",
       "      <td>NaN</td>\n",
       "      <td>2</td>\n",
       "      <td>0</td>\n",
       "    </tr>\n",
       "    <tr>\n",
       "      <th>8513</th>\n",
       "      <td>other</td>\n",
       "      <td>other</td>\n",
       "      <td>other</td>\n",
       "      <td>NaN</td>\n",
       "      <td>NaN</td>\n",
       "      <td>NaN</td>\n",
       "      <td>NaN</td>\n",
       "      <td>5</td>\n",
       "      <td>0</td>\n",
       "    </tr>\n",
       "    <tr>\n",
       "      <th>8515</th>\n",
       "      <td>other</td>\n",
       "      <td>other</td>\n",
       "      <td>other</td>\n",
       "      <td>NaN</td>\n",
       "      <td>NaN</td>\n",
       "      <td>NaN</td>\n",
       "      <td>NaN</td>\n",
       "      <td>4</td>\n",
       "      <td>0</td>\n",
       "    </tr>\n",
       "  </tbody>\n",
       "</table>\n",
       "<p>8514 rows × 9 columns</p>\n",
       "</div>"
      ],
      "text/plain": [
       "               reviewer name               review title place of review  \\\n",
       "0               Kamal Suresh               nice product       chirakkal   \n",
       "1          Flipkart Customer     don't waste your money       hyderabad   \n",
       "2     A. S. Raja Srinivasan   did not meet expectations      dharmapuri   \n",
       "3        Suresh Narayanasamy                       fair         chennai   \n",
       "4                  ASHIK P A                over priced           other   \n",
       "...                      ...                        ...             ...   \n",
       "8509                   other                      other           other   \n",
       "8510                   other                      other           other   \n",
       "8512                   other                      other           other   \n",
       "8513                   other                      other           other   \n",
       "8515                   other                      other           other   \n",
       "\n",
       "      up votes  down votes     month  \\\n",
       "0        889.0        64.0  Feb 2021   \n",
       "1        109.0         6.0  Feb 2021   \n",
       "2         42.0         3.0  Apr 2021   \n",
       "3         25.0         1.0       NaN   \n",
       "4        147.0        24.0  Apr 2016   \n",
       "...        ...         ...       ...   \n",
       "8509       NaN         NaN       NaN   \n",
       "8510       NaN         NaN       NaN   \n",
       "8512       NaN         NaN       NaN   \n",
       "8513       NaN         NaN       NaN   \n",
       "8515       NaN         NaN       NaN   \n",
       "\n",
       "                                            review text  ratings  \\\n",
       "0     Nice product, good quality, but price is now r...        4   \n",
       "1     They didn't supplied Yonex Mavis 350. Outside ...        1   \n",
       "2     Worst product. Damaged shuttlecocks packed in ...        1   \n",
       "3     Quite O. K. , but nowadays  the quality of the...        3   \n",
       "4     Over pricedJust â?¹620 ..from retailer.I didn'...        1   \n",
       "...                                                 ...      ...   \n",
       "8509  Not sure why we have charged for this product ...        1   \n",
       "8510                                                NaN        1   \n",
       "8512                                                NaN        2   \n",
       "8513                                                NaN        5   \n",
       "8515                                                NaN        4   \n",
       "\n",
       "      certified buyer  \n",
       "0                   1  \n",
       "1                   1  \n",
       "2                   1  \n",
       "3                   1  \n",
       "4                   0  \n",
       "...               ...  \n",
       "8509                0  \n",
       "8510                0  \n",
       "8512                0  \n",
       "8513                0  \n",
       "8515                0  \n",
       "\n",
       "[8514 rows x 9 columns]"
      ]
     },
     "execution_count": 39,
     "metadata": {},
     "output_type": "execute_result"
    }
   ],
   "source": [
    "df"
   ]
  },
  {
   "cell_type": "code",
   "execution_count": null,
   "id": "32e57dbf",
   "metadata": {},
   "outputs": [],
   "source": []
  },
  {
   "cell_type": "code",
   "execution_count": 40,
   "id": "d96e9faa",
   "metadata": {},
   "outputs": [
    {
     "data": {
      "text/plain": [
       "count    8508.000000\n",
       "mean        0.391396\n",
       "std        11.613909\n",
       "min         0.000000\n",
       "25%         0.000000\n",
       "50%         0.000000\n",
       "75%         0.000000\n",
       "max       889.000000\n",
       "Name: up votes, dtype: float64"
      ]
     },
     "execution_count": 40,
     "metadata": {},
     "output_type": "execute_result"
    }
   ],
   "source": [
    "df['up votes'].describe()"
   ]
  },
  {
   "cell_type": "code",
   "execution_count": 41,
   "id": "4c9f5982",
   "metadata": {},
   "outputs": [
    {
     "data": {
      "text/plain": [
       "6"
      ]
     },
     "execution_count": 41,
     "metadata": {},
     "output_type": "execute_result"
    }
   ],
   "source": [
    "df['up votes'].isna().sum()"
   ]
  },
  {
   "cell_type": "code",
   "execution_count": 42,
   "id": "819a29e7",
   "metadata": {},
   "outputs": [
    {
     "data": {
      "text/plain": [
       "up votes\n",
       "0.0      0.973554\n",
       "1.0      0.014692\n",
       "2.0      0.003879\n",
       "3.0      0.001998\n",
       "4.0      0.001175\n",
       "5.0      0.000470\n",
       "14.0     0.000353\n",
       "8.0      0.000235\n",
       "22.0     0.000235\n",
       "6.0      0.000235\n",
       "17.0     0.000118\n",
       "124.0    0.000118\n",
       "24.0     0.000118\n",
       "11.0     0.000118\n",
       "216.0    0.000118\n",
       "9.0      0.000118\n",
       "7.0      0.000118\n",
       "19.0     0.000118\n",
       "13.0     0.000118\n",
       "889.0    0.000118\n",
       "12.0     0.000118\n",
       "30.0     0.000118\n",
       "109.0    0.000118\n",
       "81.0     0.000118\n",
       "71.0     0.000118\n",
       "23.0     0.000118\n",
       "142.0    0.000118\n",
       "146.0    0.000118\n",
       "57.0     0.000118\n",
       "50.0     0.000118\n",
       "59.0     0.000118\n",
       "403.0    0.000118\n",
       "173.0    0.000118\n",
       "147.0    0.000118\n",
       "25.0     0.000118\n",
       "42.0     0.000118\n",
       "15.0     0.000118\n",
       "Name: proportion, dtype: float64"
      ]
     },
     "execution_count": 42,
     "metadata": {},
     "output_type": "execute_result"
    }
   ],
   "source": [
    "df['up votes'].value_counts(normalize = True)"
   ]
  },
  {
   "cell_type": "code",
   "execution_count": 43,
   "id": "bfbf74f5",
   "metadata": {},
   "outputs": [],
   "source": [
    "df['up votes'].fillna(0.0,inplace=True)"
   ]
  },
  {
   "cell_type": "code",
   "execution_count": 44,
   "id": "5c29e55d",
   "metadata": {},
   "outputs": [
    {
     "data": {
      "text/plain": [
       "0"
      ]
     },
     "execution_count": 44,
     "metadata": {},
     "output_type": "execute_result"
    }
   ],
   "source": [
    "df['up votes'].isna().sum()"
   ]
  },
  {
   "cell_type": "code",
   "execution_count": null,
   "id": "3b4b9752",
   "metadata": {},
   "outputs": [],
   "source": []
  },
  {
   "cell_type": "code",
   "execution_count": 45,
   "id": "4a14bf19",
   "metadata": {},
   "outputs": [
    {
     "data": {
      "text/plain": [
       "count    8508.000000\n",
       "mean        0.121768\n",
       "std         3.248022\n",
       "min         0.000000\n",
       "25%         0.000000\n",
       "50%         0.000000\n",
       "75%         0.000000\n",
       "max       219.000000\n",
       "Name: down votes, dtype: float64"
      ]
     },
     "execution_count": 45,
     "metadata": {},
     "output_type": "execute_result"
    }
   ],
   "source": [
    "df['down votes'].describe()"
   ]
  },
  {
   "cell_type": "code",
   "execution_count": 46,
   "id": "a2a336b8",
   "metadata": {},
   "outputs": [
    {
     "data": {
      "text/plain": [
       "6"
      ]
     },
     "execution_count": 46,
     "metadata": {},
     "output_type": "execute_result"
    }
   ],
   "source": [
    "df['down votes'].isna().sum()"
   ]
  },
  {
   "cell_type": "code",
   "execution_count": 47,
   "id": "a5a54aa2",
   "metadata": {},
   "outputs": [
    {
     "data": {
      "text/plain": [
       "down votes\n",
       "0.0      0.984015\n",
       "1.0      0.009756\n",
       "2.0      0.001763\n",
       "3.0      0.001293\n",
       "5.0      0.000470\n",
       "7.0      0.000235\n",
       "4.0      0.000235\n",
       "6.0      0.000235\n",
       "35.0     0.000118\n",
       "20.0     0.000118\n",
       "106.0    0.000118\n",
       "219.0    0.000118\n",
       "8.0      0.000118\n",
       "10.0     0.000118\n",
       "64.0     0.000118\n",
       "29.0     0.000118\n",
       "53.0     0.000118\n",
       "52.0     0.000118\n",
       "16.0     0.000118\n",
       "12.0     0.000118\n",
       "13.0     0.000118\n",
       "121.0    0.000118\n",
       "45.0     0.000118\n",
       "24.0     0.000118\n",
       "9.0      0.000118\n",
       "Name: proportion, dtype: float64"
      ]
     },
     "execution_count": 47,
     "metadata": {},
     "output_type": "execute_result"
    }
   ],
   "source": [
    "df['down votes'].value_counts(normalize = True)"
   ]
  },
  {
   "cell_type": "code",
   "execution_count": 48,
   "id": "9293d3c8",
   "metadata": {},
   "outputs": [],
   "source": [
    "df['down votes'].fillna(0.0,inplace=True)"
   ]
  },
  {
   "cell_type": "code",
   "execution_count": 49,
   "id": "ef52bc81",
   "metadata": {},
   "outputs": [
    {
     "data": {
      "text/plain": [
       "0"
      ]
     },
     "execution_count": 49,
     "metadata": {},
     "output_type": "execute_result"
    }
   ],
   "source": [
    "df['down votes'].isna().sum()"
   ]
  },
  {
   "cell_type": "code",
   "execution_count": null,
   "id": "0750cf59",
   "metadata": {},
   "outputs": [],
   "source": []
  },
  {
   "cell_type": "code",
   "execution_count": 50,
   "id": "1dec5713",
   "metadata": {},
   "outputs": [
    {
     "data": {
      "text/plain": [
       "461"
      ]
     },
     "execution_count": 50,
     "metadata": {},
     "output_type": "execute_result"
    }
   ],
   "source": [
    "df['month'].isna().sum()"
   ]
  },
  {
   "cell_type": "code",
   "execution_count": 51,
   "id": "bb622d06",
   "metadata": {},
   "outputs": [],
   "source": [
    "df['month'].fillna('other',inplace=True)"
   ]
  },
  {
   "cell_type": "code",
   "execution_count": 52,
   "id": "d4a5b5f1",
   "metadata": {},
   "outputs": [
    {
     "data": {
      "text/plain": [
       "count      8514\n",
       "unique       81\n",
       "top       other\n",
       "freq        461\n",
       "Name: month, dtype: object"
      ]
     },
     "execution_count": 52,
     "metadata": {},
     "output_type": "execute_result"
    }
   ],
   "source": [
    "df['month'].describe()"
   ]
  },
  {
   "cell_type": "code",
   "execution_count": 53,
   "id": "a748c89c",
   "metadata": {},
   "outputs": [
    {
     "data": {
      "text/plain": [
       "month\n",
       "other       461\n",
       "Oct 2020    237\n",
       "Dec 2018    223\n",
       "Jul 2020    220\n",
       "Aug 2020    208\n",
       "           ... \n",
       "Apr 2020      3\n",
       "Apr 2016      2\n",
       "Dec 2015      2\n",
       "Mar 2016      1\n",
       "Jul 2016      1\n",
       "Name: count, Length: 81, dtype: int64"
      ]
     },
     "execution_count": 53,
     "metadata": {},
     "output_type": "execute_result"
    }
   ],
   "source": [
    "df['month'].value_counts()"
   ]
  },
  {
   "cell_type": "code",
   "execution_count": 54,
   "id": "9e12e208",
   "metadata": {},
   "outputs": [],
   "source": [
    "df['year'] = df['month'].apply(lambda x : ''.join(re.findall(r'[0-9]',x)) if x != 'other' else np.NaN)"
   ]
  },
  {
   "cell_type": "code",
   "execution_count": 55,
   "id": "e4449954",
   "metadata": {},
   "outputs": [
    {
     "data": {
      "text/plain": [
       "year\n",
       "2020    1918\n",
       "2021    1774\n",
       "2018    1606\n",
       "2019    1356\n",
       "2017     782\n",
       "2022     561\n",
       "2016      54\n",
       "2015       2\n",
       "Name: count, dtype: int64"
      ]
     },
     "execution_count": 55,
     "metadata": {},
     "output_type": "execute_result"
    }
   ],
   "source": [
    "df['year'].value_counts()"
   ]
  },
  {
   "cell_type": "code",
   "execution_count": 56,
   "id": "9b464d22",
   "metadata": {},
   "outputs": [
    {
     "data": {
      "text/plain": [
       "461"
      ]
     },
     "execution_count": 56,
     "metadata": {},
     "output_type": "execute_result"
    }
   ],
   "source": [
    "df['year'].isna().sum()"
   ]
  },
  {
   "cell_type": "code",
   "execution_count": 57,
   "id": "999656ee",
   "metadata": {},
   "outputs": [],
   "source": [
    "df['month'] = df['month'].apply(lambda x : ''.join(re.sub(r'[^A-z ]','',x)).lower() if x != 'other' else x)"
   ]
  },
  {
   "cell_type": "code",
   "execution_count": 58,
   "id": "69b7fe38",
   "metadata": {},
   "outputs": [
    {
     "data": {
      "text/plain": [
       "month\n",
       "oct      847\n",
       "dec      774\n",
       "jan      747\n",
       "nov      683\n",
       "mar      674\n",
       "may      659\n",
       "feb      638\n",
       "aug      631\n",
       "sep      631\n",
       "jun      621\n",
       "jul      621\n",
       "apr      527\n",
       "other    461\n",
       "Name: count, dtype: int64"
      ]
     },
     "execution_count": 58,
     "metadata": {},
     "output_type": "execute_result"
    }
   ],
   "source": [
    "df['month'].value_counts()"
   ]
  },
  {
   "cell_type": "code",
   "execution_count": 59,
   "id": "bef3f844",
   "metadata": {},
   "outputs": [
    {
     "data": {
      "text/html": [
       "<div>\n",
       "<style scoped>\n",
       "    .dataframe tbody tr th:only-of-type {\n",
       "        vertical-align: middle;\n",
       "    }\n",
       "\n",
       "    .dataframe tbody tr th {\n",
       "        vertical-align: top;\n",
       "    }\n",
       "\n",
       "    .dataframe thead th {\n",
       "        text-align: right;\n",
       "    }\n",
       "</style>\n",
       "<table border=\"1\" class=\"dataframe\">\n",
       "  <thead>\n",
       "    <tr style=\"text-align: right;\">\n",
       "      <th></th>\n",
       "      <th>reviewer name</th>\n",
       "      <th>review title</th>\n",
       "      <th>place of review</th>\n",
       "      <th>up votes</th>\n",
       "      <th>down votes</th>\n",
       "      <th>month</th>\n",
       "      <th>review text</th>\n",
       "      <th>ratings</th>\n",
       "      <th>certified buyer</th>\n",
       "      <th>year</th>\n",
       "    </tr>\n",
       "  </thead>\n",
       "  <tbody>\n",
       "    <tr>\n",
       "      <th>0</th>\n",
       "      <td>Kamal Suresh</td>\n",
       "      <td>nice product</td>\n",
       "      <td>chirakkal</td>\n",
       "      <td>889.0</td>\n",
       "      <td>64.0</td>\n",
       "      <td>feb</td>\n",
       "      <td>Nice product, good quality, but price is now r...</td>\n",
       "      <td>4</td>\n",
       "      <td>1</td>\n",
       "      <td>2021</td>\n",
       "    </tr>\n",
       "    <tr>\n",
       "      <th>1</th>\n",
       "      <td>Flipkart Customer</td>\n",
       "      <td>don't waste your money</td>\n",
       "      <td>hyderabad</td>\n",
       "      <td>109.0</td>\n",
       "      <td>6.0</td>\n",
       "      <td>feb</td>\n",
       "      <td>They didn't supplied Yonex Mavis 350. Outside ...</td>\n",
       "      <td>1</td>\n",
       "      <td>1</td>\n",
       "      <td>2021</td>\n",
       "    </tr>\n",
       "    <tr>\n",
       "      <th>2</th>\n",
       "      <td>A. S. Raja Srinivasan</td>\n",
       "      <td>did not meet expectations</td>\n",
       "      <td>dharmapuri</td>\n",
       "      <td>42.0</td>\n",
       "      <td>3.0</td>\n",
       "      <td>apr</td>\n",
       "      <td>Worst product. Damaged shuttlecocks packed in ...</td>\n",
       "      <td>1</td>\n",
       "      <td>1</td>\n",
       "      <td>2021</td>\n",
       "    </tr>\n",
       "    <tr>\n",
       "      <th>3</th>\n",
       "      <td>Suresh Narayanasamy</td>\n",
       "      <td>fair</td>\n",
       "      <td>chennai</td>\n",
       "      <td>25.0</td>\n",
       "      <td>1.0</td>\n",
       "      <td>other</td>\n",
       "      <td>Quite O. K. , but nowadays  the quality of the...</td>\n",
       "      <td>3</td>\n",
       "      <td>1</td>\n",
       "      <td>NaN</td>\n",
       "    </tr>\n",
       "    <tr>\n",
       "      <th>4</th>\n",
       "      <td>ASHIK P A</td>\n",
       "      <td>over priced</td>\n",
       "      <td>other</td>\n",
       "      <td>147.0</td>\n",
       "      <td>24.0</td>\n",
       "      <td>apr</td>\n",
       "      <td>Over pricedJust â?¹620 ..from retailer.I didn'...</td>\n",
       "      <td>1</td>\n",
       "      <td>0</td>\n",
       "      <td>2016</td>\n",
       "    </tr>\n",
       "    <tr>\n",
       "      <th>...</th>\n",
       "      <td>...</td>\n",
       "      <td>...</td>\n",
       "      <td>...</td>\n",
       "      <td>...</td>\n",
       "      <td>...</td>\n",
       "      <td>...</td>\n",
       "      <td>...</td>\n",
       "      <td>...</td>\n",
       "      <td>...</td>\n",
       "      <td>...</td>\n",
       "    </tr>\n",
       "    <tr>\n",
       "      <th>8509</th>\n",
       "      <td>other</td>\n",
       "      <td>other</td>\n",
       "      <td>other</td>\n",
       "      <td>0.0</td>\n",
       "      <td>0.0</td>\n",
       "      <td>other</td>\n",
       "      <td>Not sure why we have charged for this product ...</td>\n",
       "      <td>1</td>\n",
       "      <td>0</td>\n",
       "      <td>NaN</td>\n",
       "    </tr>\n",
       "    <tr>\n",
       "      <th>8510</th>\n",
       "      <td>other</td>\n",
       "      <td>other</td>\n",
       "      <td>other</td>\n",
       "      <td>0.0</td>\n",
       "      <td>0.0</td>\n",
       "      <td>other</td>\n",
       "      <td>NaN</td>\n",
       "      <td>1</td>\n",
       "      <td>0</td>\n",
       "      <td>NaN</td>\n",
       "    </tr>\n",
       "    <tr>\n",
       "      <th>8512</th>\n",
       "      <td>other</td>\n",
       "      <td>other</td>\n",
       "      <td>other</td>\n",
       "      <td>0.0</td>\n",
       "      <td>0.0</td>\n",
       "      <td>other</td>\n",
       "      <td>NaN</td>\n",
       "      <td>2</td>\n",
       "      <td>0</td>\n",
       "      <td>NaN</td>\n",
       "    </tr>\n",
       "    <tr>\n",
       "      <th>8513</th>\n",
       "      <td>other</td>\n",
       "      <td>other</td>\n",
       "      <td>other</td>\n",
       "      <td>0.0</td>\n",
       "      <td>0.0</td>\n",
       "      <td>other</td>\n",
       "      <td>NaN</td>\n",
       "      <td>5</td>\n",
       "      <td>0</td>\n",
       "      <td>NaN</td>\n",
       "    </tr>\n",
       "    <tr>\n",
       "      <th>8515</th>\n",
       "      <td>other</td>\n",
       "      <td>other</td>\n",
       "      <td>other</td>\n",
       "      <td>0.0</td>\n",
       "      <td>0.0</td>\n",
       "      <td>other</td>\n",
       "      <td>NaN</td>\n",
       "      <td>4</td>\n",
       "      <td>0</td>\n",
       "      <td>NaN</td>\n",
       "    </tr>\n",
       "  </tbody>\n",
       "</table>\n",
       "<p>8514 rows × 10 columns</p>\n",
       "</div>"
      ],
      "text/plain": [
       "               reviewer name               review title place of review  \\\n",
       "0               Kamal Suresh               nice product       chirakkal   \n",
       "1          Flipkart Customer     don't waste your money       hyderabad   \n",
       "2     A. S. Raja Srinivasan   did not meet expectations      dharmapuri   \n",
       "3        Suresh Narayanasamy                       fair         chennai   \n",
       "4                  ASHIK P A                over priced           other   \n",
       "...                      ...                        ...             ...   \n",
       "8509                   other                      other           other   \n",
       "8510                   other                      other           other   \n",
       "8512                   other                      other           other   \n",
       "8513                   other                      other           other   \n",
       "8515                   other                      other           other   \n",
       "\n",
       "      up votes  down votes  month  \\\n",
       "0        889.0        64.0   feb    \n",
       "1        109.0         6.0   feb    \n",
       "2         42.0         3.0   apr    \n",
       "3         25.0         1.0  other   \n",
       "4        147.0        24.0   apr    \n",
       "...        ...         ...    ...   \n",
       "8509       0.0         0.0  other   \n",
       "8510       0.0         0.0  other   \n",
       "8512       0.0         0.0  other   \n",
       "8513       0.0         0.0  other   \n",
       "8515       0.0         0.0  other   \n",
       "\n",
       "                                            review text  ratings  \\\n",
       "0     Nice product, good quality, but price is now r...        4   \n",
       "1     They didn't supplied Yonex Mavis 350. Outside ...        1   \n",
       "2     Worst product. Damaged shuttlecocks packed in ...        1   \n",
       "3     Quite O. K. , but nowadays  the quality of the...        3   \n",
       "4     Over pricedJust â?¹620 ..from retailer.I didn'...        1   \n",
       "...                                                 ...      ...   \n",
       "8509  Not sure why we have charged for this product ...        1   \n",
       "8510                                                NaN        1   \n",
       "8512                                                NaN        2   \n",
       "8513                                                NaN        5   \n",
       "8515                                                NaN        4   \n",
       "\n",
       "      certified buyer  year  \n",
       "0                   1  2021  \n",
       "1                   1  2021  \n",
       "2                   1  2021  \n",
       "3                   1   NaN  \n",
       "4                   0  2016  \n",
       "...               ...   ...  \n",
       "8509                0   NaN  \n",
       "8510                0   NaN  \n",
       "8512                0   NaN  \n",
       "8513                0   NaN  \n",
       "8515                0   NaN  \n",
       "\n",
       "[8514 rows x 10 columns]"
      ]
     },
     "execution_count": 59,
     "metadata": {},
     "output_type": "execute_result"
    }
   ],
   "source": [
    "df"
   ]
  },
  {
   "cell_type": "code",
   "execution_count": null,
   "id": "2b50b39c",
   "metadata": {},
   "outputs": [],
   "source": []
  },
  {
   "cell_type": "code",
   "execution_count": 60,
   "id": "9f4435d3",
   "metadata": {},
   "outputs": [
    {
     "data": {
      "text/plain": [
       "count              8510\n",
       "unique             4983\n",
       "top       GoodREAD MORE\n",
       "freq                695\n",
       "Name: review text, dtype: object"
      ]
     },
     "execution_count": 60,
     "metadata": {},
     "output_type": "execute_result"
    }
   ],
   "source": [
    "df['review text'].describe()"
   ]
  },
  {
   "cell_type": "code",
   "execution_count": 61,
   "id": "a6485c38",
   "metadata": {},
   "outputs": [],
   "source": [
    "df['review text'] = df['review text'].str.lower()"
   ]
  },
  {
   "cell_type": "code",
   "execution_count": 62,
   "id": "6ceb088a",
   "metadata": {},
   "outputs": [
    {
     "data": {
      "text/plain": [
       "0       nice product, good quality, but price is now r...\n",
       "1       they didn't supplied yonex mavis 350. outside ...\n",
       "2       worst product. damaged shuttlecocks packed in ...\n",
       "3       quite o. k. , but nowadays  the quality of the...\n",
       "4       over pricedjust â?¹620 ..from retailer.i didn'...\n",
       "                              ...                        \n",
       "8509    not sure why we have charged for this product ...\n",
       "8510                                                  NaN\n",
       "8512                                                  NaN\n",
       "8513                                                  NaN\n",
       "8515                                                  NaN\n",
       "Name: review text, Length: 8514, dtype: object"
      ]
     },
     "execution_count": 62,
     "metadata": {},
     "output_type": "execute_result"
    }
   ],
   "source": [
    "df['review text']"
   ]
  },
  {
   "cell_type": "code",
   "execution_count": 63,
   "id": "4c93857e",
   "metadata": {},
   "outputs": [
    {
     "data": {
      "text/plain": [
       "4"
      ]
     },
     "execution_count": 63,
     "metadata": {},
     "output_type": "execute_result"
    }
   ],
   "source": [
    "df['review text'].isna().sum()"
   ]
  },
  {
   "cell_type": "code",
   "execution_count": 64,
   "id": "26749c1d",
   "metadata": {},
   "outputs": [],
   "source": [
    "df['review text'].fillna('no comments',inplace=True)"
   ]
  },
  {
   "cell_type": "code",
   "execution_count": null,
   "id": "6df6a838",
   "metadata": {},
   "outputs": [],
   "source": []
  },
  {
   "cell_type": "code",
   "execution_count": null,
   "id": "bb340811",
   "metadata": {},
   "outputs": [],
   "source": []
  },
  {
   "cell_type": "code",
   "execution_count": null,
   "id": "e391f258",
   "metadata": {},
   "outputs": [],
   "source": []
  },
  {
   "cell_type": "code",
   "execution_count": 65,
   "id": "009c8969",
   "metadata": {},
   "outputs": [
    {
     "data": {
      "text/plain": [
       "ratings\n",
       "5    5080\n",
       "4    1745\n",
       "1     767\n",
       "3     615\n",
       "2     307\n",
       "Name: count, dtype: int64"
      ]
     },
     "execution_count": 65,
     "metadata": {},
     "output_type": "execute_result"
    }
   ],
   "source": [
    "df['ratings'].value_counts()"
   ]
  },
  {
   "cell_type": "code",
   "execution_count": 66,
   "id": "36f12811",
   "metadata": {},
   "outputs": [
    {
     "data": {
      "text/plain": [
       "count    8514.000000\n",
       "mean        4.182053\n",
       "std         1.261331\n",
       "min         1.000000\n",
       "25%         4.000000\n",
       "50%         5.000000\n",
       "75%         5.000000\n",
       "max         5.000000\n",
       "Name: ratings, dtype: float64"
      ]
     },
     "execution_count": 66,
     "metadata": {},
     "output_type": "execute_result"
    }
   ],
   "source": [
    "df['ratings'].describe()"
   ]
  },
  {
   "cell_type": "code",
   "execution_count": 67,
   "id": "1f002d81",
   "metadata": {},
   "outputs": [
    {
     "data": {
      "text/plain": [
       "0"
      ]
     },
     "execution_count": 67,
     "metadata": {},
     "output_type": "execute_result"
    }
   ],
   "source": [
    "df['ratings'].isna().sum()"
   ]
  },
  {
   "cell_type": "code",
   "execution_count": 68,
   "id": "50197176",
   "metadata": {},
   "outputs": [
    {
     "data": {
      "text/plain": [
       "0"
      ]
     },
     "execution_count": 68,
     "metadata": {},
     "output_type": "execute_result"
    }
   ],
   "source": [
    "df['review text'].isna().sum()"
   ]
  },
  {
   "cell_type": "code",
   "execution_count": 69,
   "id": "abeb2452",
   "metadata": {},
   "outputs": [],
   "source": [
    "df['review text'].fillna('no comment',inplace=True)"
   ]
  },
  {
   "cell_type": "code",
   "execution_count": 70,
   "id": "f048a3ae",
   "metadata": {},
   "outputs": [],
   "source": [
    "df.drop(columns=['reviewer name','place of review','month','certified buyer','year','review title','up votes','down votes'],axis=1,inplace=True)"
   ]
  },
  {
   "cell_type": "code",
   "execution_count": 71,
   "id": "f0352429",
   "metadata": {},
   "outputs": [
    {
     "data": {
      "text/html": [
       "<div>\n",
       "<style scoped>\n",
       "    .dataframe tbody tr th:only-of-type {\n",
       "        vertical-align: middle;\n",
       "    }\n",
       "\n",
       "    .dataframe tbody tr th {\n",
       "        vertical-align: top;\n",
       "    }\n",
       "\n",
       "    .dataframe thead th {\n",
       "        text-align: right;\n",
       "    }\n",
       "</style>\n",
       "<table border=\"1\" class=\"dataframe\">\n",
       "  <thead>\n",
       "    <tr style=\"text-align: right;\">\n",
       "      <th></th>\n",
       "      <th>review text</th>\n",
       "      <th>ratings</th>\n",
       "    </tr>\n",
       "  </thead>\n",
       "  <tbody>\n",
       "    <tr>\n",
       "      <th>0</th>\n",
       "      <td>nice product, good quality, but price is now r...</td>\n",
       "      <td>4</td>\n",
       "    </tr>\n",
       "    <tr>\n",
       "      <th>1</th>\n",
       "      <td>they didn't supplied yonex mavis 350. outside ...</td>\n",
       "      <td>1</td>\n",
       "    </tr>\n",
       "    <tr>\n",
       "      <th>2</th>\n",
       "      <td>worst product. damaged shuttlecocks packed in ...</td>\n",
       "      <td>1</td>\n",
       "    </tr>\n",
       "    <tr>\n",
       "      <th>3</th>\n",
       "      <td>quite o. k. , but nowadays  the quality of the...</td>\n",
       "      <td>3</td>\n",
       "    </tr>\n",
       "    <tr>\n",
       "      <th>4</th>\n",
       "      <td>over pricedjust â?¹620 ..from retailer.i didn'...</td>\n",
       "      <td>1</td>\n",
       "    </tr>\n",
       "    <tr>\n",
       "      <th>...</th>\n",
       "      <td>...</td>\n",
       "      <td>...</td>\n",
       "    </tr>\n",
       "    <tr>\n",
       "      <th>8509</th>\n",
       "      <td>not sure why we have charged for this product ...</td>\n",
       "      <td>1</td>\n",
       "    </tr>\n",
       "    <tr>\n",
       "      <th>8510</th>\n",
       "      <td>no comments</td>\n",
       "      <td>1</td>\n",
       "    </tr>\n",
       "    <tr>\n",
       "      <th>8512</th>\n",
       "      <td>no comments</td>\n",
       "      <td>2</td>\n",
       "    </tr>\n",
       "    <tr>\n",
       "      <th>8513</th>\n",
       "      <td>no comments</td>\n",
       "      <td>5</td>\n",
       "    </tr>\n",
       "    <tr>\n",
       "      <th>8515</th>\n",
       "      <td>no comments</td>\n",
       "      <td>4</td>\n",
       "    </tr>\n",
       "  </tbody>\n",
       "</table>\n",
       "<p>8514 rows × 2 columns</p>\n",
       "</div>"
      ],
      "text/plain": [
       "                                            review text  ratings\n",
       "0     nice product, good quality, but price is now r...        4\n",
       "1     they didn't supplied yonex mavis 350. outside ...        1\n",
       "2     worst product. damaged shuttlecocks packed in ...        1\n",
       "3     quite o. k. , but nowadays  the quality of the...        3\n",
       "4     over pricedjust â?¹620 ..from retailer.i didn'...        1\n",
       "...                                                 ...      ...\n",
       "8509  not sure why we have charged for this product ...        1\n",
       "8510                                        no comments        1\n",
       "8512                                        no comments        2\n",
       "8513                                        no comments        5\n",
       "8515                                        no comments        4\n",
       "\n",
       "[8514 rows x 2 columns]"
      ]
     },
     "execution_count": 71,
     "metadata": {},
     "output_type": "execute_result"
    }
   ],
   "source": [
    "df"
   ]
  },
  {
   "cell_type": "code",
   "execution_count": 72,
   "id": "00d6cab4",
   "metadata": {},
   "outputs": [],
   "source": [
    "import nltk"
   ]
  },
  {
   "cell_type": "code",
   "execution_count": 73,
   "id": "3ec74b79",
   "metadata": {},
   "outputs": [],
   "source": [
    "#example = df['review text'][0]\n",
    "#example"
   ]
  },
  {
   "cell_type": "code",
   "execution_count": 74,
   "id": "71cd5093",
   "metadata": {},
   "outputs": [],
   "source": [
    "#nltk.word_tokenize(example)"
   ]
  },
  {
   "cell_type": "code",
   "execution_count": 75,
   "id": "ee16a96c",
   "metadata": {},
   "outputs": [],
   "source": [
    "#df['review text'][1]"
   ]
  },
  {
   "cell_type": "code",
   "execution_count": 76,
   "id": "25f870ef",
   "metadata": {},
   "outputs": [],
   "source": [
    "#from nltk.sentiment import SentimentIntensityAnalyzer\n"
   ]
  },
  {
   "cell_type": "code",
   "execution_count": 77,
   "id": "0fc6a0a5",
   "metadata": {},
   "outputs": [],
   "source": [
    "#nltk.download('vader_lexicon')\n"
   ]
  },
  {
   "cell_type": "code",
   "execution_count": null,
   "id": "4d84de93",
   "metadata": {},
   "outputs": [],
   "source": []
  },
  {
   "cell_type": "code",
   "execution_count": 78,
   "id": "42086bba",
   "metadata": {},
   "outputs": [],
   "source": [
    "#sia.polarity_scores(df['review text'][0])"
   ]
  },
  {
   "cell_type": "code",
   "execution_count": 79,
   "id": "4dd34ffb",
   "metadata": {},
   "outputs": [],
   "source": [
    "#sia.polarity_scores(df['review text'][1]).items()"
   ]
  },
  {
   "cell_type": "code",
   "execution_count": 80,
   "id": "2453c202",
   "metadata": {},
   "outputs": [],
   "source": [
    "#df['review text'].fillna('no comments',inplace=True)"
   ]
  },
  {
   "cell_type": "code",
   "execution_count": 81,
   "id": "f11e2dbb",
   "metadata": {},
   "outputs": [],
   "source": [
    "#res={}\n",
    "#for index, value in enumerate(df['review text']):\n",
    "#    res[index]=sia.polarity_scores(value)\n",
    "    \n",
    "#vaders_title = pd.DataFrame(res).T\n",
    "#vaders_title.rename(columns={'neg':'title_neg','neu':'title_neu','pos':'title_pos','compound':'title_compound'},inplace=True)"
   ]
  },
  {
   "cell_type": "code",
   "execution_count": 82,
   "id": "e7afadf4",
   "metadata": {},
   "outputs": [],
   "source": [
    "#vaders_title"
   ]
  },
  {
   "cell_type": "code",
   "execution_count": 83,
   "id": "ae81b95a",
   "metadata": {},
   "outputs": [],
   "source": [
    "def preprocess(text):\n",
    "    try:\n",
    "        token = re.sub(r'[^a-z]',' ',text)\n",
    "        tokens = token.split()\n",
    "        clean_token = [j for j in tokens if j not in stopwords.words('english')]\n",
    "        stemmer = PorterStemmer()\n",
    "        clean_token = [stemmer.stem(j) for j in clean_token]\n",
    "    except:\n",
    "        pass\n",
    "    return pd.Series([\" \".join(clean_token), len(clean_token)])"
   ]
  },
  {
   "cell_type": "code",
   "execution_count": 84,
   "id": "0b2ea345",
   "metadata": {},
   "outputs": [],
   "source": [
    "import nltk\n",
    "from tqdm import tqdm, tqdm_notebook\n",
    "from nltk.corpus import stopwords\n",
    "from nltk.stem.porter import PorterStemmer\n",
    "from nltk.sentiment import SentimentIntensityAnalyzer"
   ]
  },
  {
   "cell_type": "code",
   "execution_count": 85,
   "id": "b8deb2ef",
   "metadata": {},
   "outputs": [],
   "source": [
    "# Register `pandas.progress_apply` and `pandas.Series.map_apply` with `tqdm`\n",
    "\n",
    "tqdm.pandas()"
   ]
  },
  {
   "cell_type": "code",
   "execution_count": 86,
   "id": "13e2cc78",
   "metadata": {},
   "outputs": [
    {
     "name": "stderr",
     "output_type": "stream",
     "text": [
      "100%|█████████████████████████████████████████████████████████████████████████████| 8514/8514 [00:15<00:00, 535.71it/s]\n"
     ]
    }
   ],
   "source": [
    "df_tem = df['review text'].progress_apply(lambda x: preprocess(x))"
   ]
  },
  {
   "cell_type": "code",
   "execution_count": 87,
   "id": "3a017da6",
   "metadata": {},
   "outputs": [
    {
     "data": {
      "text/html": [
       "<div>\n",
       "<style scoped>\n",
       "    .dataframe tbody tr th:only-of-type {\n",
       "        vertical-align: middle;\n",
       "    }\n",
       "\n",
       "    .dataframe tbody tr th {\n",
       "        vertical-align: top;\n",
       "    }\n",
       "\n",
       "    .dataframe thead th {\n",
       "        text-align: right;\n",
       "    }\n",
       "</style>\n",
       "<table border=\"1\" class=\"dataframe\">\n",
       "  <thead>\n",
       "    <tr style=\"text-align: right;\">\n",
       "      <th></th>\n",
       "      <th>0</th>\n",
       "      <th>1</th>\n",
       "    </tr>\n",
       "  </thead>\n",
       "  <tbody>\n",
       "    <tr>\n",
       "      <th>0</th>\n",
       "      <td>nice product good qualiti price rise bad sign ...</td>\n",
       "      <td>20</td>\n",
       "    </tr>\n",
       "    <tr>\n",
       "      <th>1</th>\n",
       "      <td>suppli yonex mavi outsid cover yonex ad insid ...</td>\n",
       "      <td>12</td>\n",
       "    </tr>\n",
       "    <tr>\n",
       "      <th>2</th>\n",
       "      <td>worst product damag shuttlecock pack new box o...</td>\n",
       "      <td>17</td>\n",
       "    </tr>\n",
       "    <tr>\n",
       "      <th>3</th>\n",
       "      <td>quit k nowaday qualiti cork like year back use...</td>\n",
       "      <td>30</td>\n",
       "    </tr>\n",
       "    <tr>\n",
       "      <th>4</th>\n",
       "      <td>pricedjust retail understand wat advantag buy ...</td>\n",
       "      <td>9</td>\n",
       "    </tr>\n",
       "    <tr>\n",
       "      <th>...</th>\n",
       "      <td>...</td>\n",
       "      <td>...</td>\n",
       "    </tr>\n",
       "    <tr>\n",
       "      <th>8509</th>\n",
       "      <td>sure charg product mrp okay pay rs product com...</td>\n",
       "      <td>27</td>\n",
       "    </tr>\n",
       "    <tr>\n",
       "      <th>8510</th>\n",
       "      <td>comment</td>\n",
       "      <td>1</td>\n",
       "    </tr>\n",
       "    <tr>\n",
       "      <th>8512</th>\n",
       "      <td>comment</td>\n",
       "      <td>1</td>\n",
       "    </tr>\n",
       "    <tr>\n",
       "      <th>8513</th>\n",
       "      <td>comment</td>\n",
       "      <td>1</td>\n",
       "    </tr>\n",
       "    <tr>\n",
       "      <th>8515</th>\n",
       "      <td>comment</td>\n",
       "      <td>1</td>\n",
       "    </tr>\n",
       "  </tbody>\n",
       "</table>\n",
       "<p>8514 rows × 2 columns</p>\n",
       "</div>"
      ],
      "text/plain": [
       "                                                      0   1\n",
       "0     nice product good qualiti price rise bad sign ...  20\n",
       "1     suppli yonex mavi outsid cover yonex ad insid ...  12\n",
       "2     worst product damag shuttlecock pack new box o...  17\n",
       "3     quit k nowaday qualiti cork like year back use...  30\n",
       "4     pricedjust retail understand wat advantag buy ...   9\n",
       "...                                                 ...  ..\n",
       "8509  sure charg product mrp okay pay rs product com...  27\n",
       "8510                                            comment   1\n",
       "8512                                            comment   1\n",
       "8513                                            comment   1\n",
       "8515                                            comment   1\n",
       "\n",
       "[8514 rows x 2 columns]"
      ]
     },
     "execution_count": 87,
     "metadata": {},
     "output_type": "execute_result"
    }
   ],
   "source": [
    "df_tem"
   ]
  },
  {
   "cell_type": "code",
   "execution_count": 88,
   "id": "9c7a7a10",
   "metadata": {},
   "outputs": [],
   "source": [
    "df_tem.columns = ['review_text_cleaned','no_of_tokens']"
   ]
  },
  {
   "cell_type": "code",
   "execution_count": 89,
   "id": "0ddb164a",
   "metadata": {},
   "outputs": [
    {
     "data": {
      "text/html": [
       "<div>\n",
       "<style scoped>\n",
       "    .dataframe tbody tr th:only-of-type {\n",
       "        vertical-align: middle;\n",
       "    }\n",
       "\n",
       "    .dataframe tbody tr th {\n",
       "        vertical-align: top;\n",
       "    }\n",
       "\n",
       "    .dataframe thead th {\n",
       "        text-align: right;\n",
       "    }\n",
       "</style>\n",
       "<table border=\"1\" class=\"dataframe\">\n",
       "  <thead>\n",
       "    <tr style=\"text-align: right;\">\n",
       "      <th></th>\n",
       "      <th>review_text_cleaned</th>\n",
       "      <th>no_of_tokens</th>\n",
       "    </tr>\n",
       "  </thead>\n",
       "  <tbody>\n",
       "    <tr>\n",
       "      <th>0</th>\n",
       "      <td>nice product good qualiti price rise bad sign ...</td>\n",
       "      <td>20</td>\n",
       "    </tr>\n",
       "    <tr>\n",
       "      <th>1</th>\n",
       "      <td>suppli yonex mavi outsid cover yonex ad insid ...</td>\n",
       "      <td>12</td>\n",
       "    </tr>\n",
       "    <tr>\n",
       "      <th>2</th>\n",
       "      <td>worst product damag shuttlecock pack new box o...</td>\n",
       "      <td>17</td>\n",
       "    </tr>\n",
       "    <tr>\n",
       "      <th>3</th>\n",
       "      <td>quit k nowaday qualiti cork like year back use...</td>\n",
       "      <td>30</td>\n",
       "    </tr>\n",
       "    <tr>\n",
       "      <th>4</th>\n",
       "      <td>pricedjust retail understand wat advantag buy ...</td>\n",
       "      <td>9</td>\n",
       "    </tr>\n",
       "    <tr>\n",
       "      <th>...</th>\n",
       "      <td>...</td>\n",
       "      <td>...</td>\n",
       "    </tr>\n",
       "    <tr>\n",
       "      <th>8509</th>\n",
       "      <td>sure charg product mrp okay pay rs product com...</td>\n",
       "      <td>27</td>\n",
       "    </tr>\n",
       "    <tr>\n",
       "      <th>8510</th>\n",
       "      <td>comment</td>\n",
       "      <td>1</td>\n",
       "    </tr>\n",
       "    <tr>\n",
       "      <th>8512</th>\n",
       "      <td>comment</td>\n",
       "      <td>1</td>\n",
       "    </tr>\n",
       "    <tr>\n",
       "      <th>8513</th>\n",
       "      <td>comment</td>\n",
       "      <td>1</td>\n",
       "    </tr>\n",
       "    <tr>\n",
       "      <th>8515</th>\n",
       "      <td>comment</td>\n",
       "      <td>1</td>\n",
       "    </tr>\n",
       "  </tbody>\n",
       "</table>\n",
       "<p>8514 rows × 2 columns</p>\n",
       "</div>"
      ],
      "text/plain": [
       "                                    review_text_cleaned  no_of_tokens\n",
       "0     nice product good qualiti price rise bad sign ...            20\n",
       "1     suppli yonex mavi outsid cover yonex ad insid ...            12\n",
       "2     worst product damag shuttlecock pack new box o...            17\n",
       "3     quit k nowaday qualiti cork like year back use...            30\n",
       "4     pricedjust retail understand wat advantag buy ...             9\n",
       "...                                                 ...           ...\n",
       "8509  sure charg product mrp okay pay rs product com...            27\n",
       "8510                                            comment             1\n",
       "8512                                            comment             1\n",
       "8513                                            comment             1\n",
       "8515                                            comment             1\n",
       "\n",
       "[8514 rows x 2 columns]"
      ]
     },
     "execution_count": 89,
     "metadata": {},
     "output_type": "execute_result"
    }
   ],
   "source": [
    "df_tem"
   ]
  },
  {
   "cell_type": "code",
   "execution_count": 90,
   "id": "bd21e299",
   "metadata": {},
   "outputs": [],
   "source": [
    "sia = SentimentIntensityAnalyzer()"
   ]
  },
  {
   "cell_type": "code",
   "execution_count": 91,
   "id": "b49bfb1d",
   "metadata": {},
   "outputs": [],
   "source": [
    "res={}\n",
    "for index, value in enumerate(df_tem['review_text_cleaned']):\n",
    "    res[index]=sia.polarity_scores(value)['compound']\n",
    "    \n",
    "#vaders_title = pd.DataFrame(res,index=index)\n",
    "#vaders_title.rename(columns={'compound':'title_compound'},inplace=True)\n",
    "\n",
    "vaders_title = pd.DataFrame(list(res.items()), columns=['Index', 'Value'])\n",
    "vaders_title.drop(columns='Index',inplace=True)\n",
    "vaders_title.rename(columns={'Value':'compound'}, inplace=True)"
   ]
  },
  {
   "cell_type": "code",
   "execution_count": 92,
   "id": "dbf1a6b1",
   "metadata": {},
   "outputs": [
    {
     "data": {
      "text/html": [
       "<div>\n",
       "<style scoped>\n",
       "    .dataframe tbody tr th:only-of-type {\n",
       "        vertical-align: middle;\n",
       "    }\n",
       "\n",
       "    .dataframe tbody tr th {\n",
       "        vertical-align: top;\n",
       "    }\n",
       "\n",
       "    .dataframe thead th {\n",
       "        text-align: right;\n",
       "    }\n",
       "</style>\n",
       "<table border=\"1\" class=\"dataframe\">\n",
       "  <thead>\n",
       "    <tr style=\"text-align: right;\">\n",
       "      <th></th>\n",
       "      <th>compound</th>\n",
       "    </tr>\n",
       "  </thead>\n",
       "  <tbody>\n",
       "    <tr>\n",
       "      <th>0</th>\n",
       "      <td>0.8316</td>\n",
       "    </tr>\n",
       "    <tr>\n",
       "      <th>1</th>\n",
       "      <td>-0.4767</td>\n",
       "    </tr>\n",
       "    <tr>\n",
       "      <th>2</th>\n",
       "      <td>-0.8360</td>\n",
       "    </tr>\n",
       "    <tr>\n",
       "      <th>3</th>\n",
       "      <td>0.9042</td>\n",
       "    </tr>\n",
       "    <tr>\n",
       "      <th>4</th>\n",
       "      <td>0.0000</td>\n",
       "    </tr>\n",
       "    <tr>\n",
       "      <th>...</th>\n",
       "      <td>...</td>\n",
       "    </tr>\n",
       "    <tr>\n",
       "      <th>8509</th>\n",
       "      <td>0.8481</td>\n",
       "    </tr>\n",
       "    <tr>\n",
       "      <th>8510</th>\n",
       "      <td>0.0000</td>\n",
       "    </tr>\n",
       "    <tr>\n",
       "      <th>8511</th>\n",
       "      <td>0.0000</td>\n",
       "    </tr>\n",
       "    <tr>\n",
       "      <th>8512</th>\n",
       "      <td>0.0000</td>\n",
       "    </tr>\n",
       "    <tr>\n",
       "      <th>8513</th>\n",
       "      <td>0.0000</td>\n",
       "    </tr>\n",
       "  </tbody>\n",
       "</table>\n",
       "<p>8514 rows × 1 columns</p>\n",
       "</div>"
      ],
      "text/plain": [
       "      compound\n",
       "0       0.8316\n",
       "1      -0.4767\n",
       "2      -0.8360\n",
       "3       0.9042\n",
       "4       0.0000\n",
       "...        ...\n",
       "8509    0.8481\n",
       "8510    0.0000\n",
       "8511    0.0000\n",
       "8512    0.0000\n",
       "8513    0.0000\n",
       "\n",
       "[8514 rows x 1 columns]"
      ]
     },
     "execution_count": 92,
     "metadata": {},
     "output_type": "execute_result"
    }
   ],
   "source": [
    "vaders_title"
   ]
  },
  {
   "cell_type": "code",
   "execution_count": null,
   "id": "a29e74f9",
   "metadata": {},
   "outputs": [],
   "source": []
  },
  {
   "cell_type": "code",
   "execution_count": null,
   "id": "10ef8287",
   "metadata": {},
   "outputs": [],
   "source": []
  },
  {
   "cell_type": "code",
   "execution_count": 93,
   "id": "416d506f",
   "metadata": {},
   "outputs": [],
   "source": [
    "df_clean = pd.concat([df_tem,vaders_title],axis=1)"
   ]
  },
  {
   "cell_type": "code",
   "execution_count": 94,
   "id": "b00d14cc",
   "metadata": {},
   "outputs": [
    {
     "data": {
      "text/html": [
       "<div>\n",
       "<style scoped>\n",
       "    .dataframe tbody tr th:only-of-type {\n",
       "        vertical-align: middle;\n",
       "    }\n",
       "\n",
       "    .dataframe tbody tr th {\n",
       "        vertical-align: top;\n",
       "    }\n",
       "\n",
       "    .dataframe thead th {\n",
       "        text-align: right;\n",
       "    }\n",
       "</style>\n",
       "<table border=\"1\" class=\"dataframe\">\n",
       "  <thead>\n",
       "    <tr style=\"text-align: right;\">\n",
       "      <th></th>\n",
       "      <th>review_text_cleaned</th>\n",
       "      <th>no_of_tokens</th>\n",
       "      <th>compound</th>\n",
       "    </tr>\n",
       "  </thead>\n",
       "  <tbody>\n",
       "    <tr>\n",
       "      <th>0</th>\n",
       "      <td>nice product good qualiti price rise bad sign ...</td>\n",
       "      <td>20.0</td>\n",
       "      <td>0.8316</td>\n",
       "    </tr>\n",
       "    <tr>\n",
       "      <th>1</th>\n",
       "      <td>suppli yonex mavi outsid cover yonex ad insid ...</td>\n",
       "      <td>12.0</td>\n",
       "      <td>-0.4767</td>\n",
       "    </tr>\n",
       "    <tr>\n",
       "      <th>2</th>\n",
       "      <td>worst product damag shuttlecock pack new box o...</td>\n",
       "      <td>17.0</td>\n",
       "      <td>-0.8360</td>\n",
       "    </tr>\n",
       "    <tr>\n",
       "      <th>3</th>\n",
       "      <td>quit k nowaday qualiti cork like year back use...</td>\n",
       "      <td>30.0</td>\n",
       "      <td>0.9042</td>\n",
       "    </tr>\n",
       "    <tr>\n",
       "      <th>4</th>\n",
       "      <td>pricedjust retail understand wat advantag buy ...</td>\n",
       "      <td>9.0</td>\n",
       "      <td>0.0000</td>\n",
       "    </tr>\n",
       "    <tr>\n",
       "      <th>...</th>\n",
       "      <td>...</td>\n",
       "      <td>...</td>\n",
       "      <td>...</td>\n",
       "    </tr>\n",
       "    <tr>\n",
       "      <th>8510</th>\n",
       "      <td>comment</td>\n",
       "      <td>1.0</td>\n",
       "      <td>0.0000</td>\n",
       "    </tr>\n",
       "    <tr>\n",
       "      <th>8512</th>\n",
       "      <td>comment</td>\n",
       "      <td>1.0</td>\n",
       "      <td>0.0000</td>\n",
       "    </tr>\n",
       "    <tr>\n",
       "      <th>8513</th>\n",
       "      <td>comment</td>\n",
       "      <td>1.0</td>\n",
       "      <td>0.0000</td>\n",
       "    </tr>\n",
       "    <tr>\n",
       "      <th>8515</th>\n",
       "      <td>comment</td>\n",
       "      <td>1.0</td>\n",
       "      <td>NaN</td>\n",
       "    </tr>\n",
       "    <tr>\n",
       "      <th>8511</th>\n",
       "      <td>NaN</td>\n",
       "      <td>NaN</td>\n",
       "      <td>0.0000</td>\n",
       "    </tr>\n",
       "  </tbody>\n",
       "</table>\n",
       "<p>8515 rows × 3 columns</p>\n",
       "</div>"
      ],
      "text/plain": [
       "                                    review_text_cleaned  no_of_tokens  \\\n",
       "0     nice product good qualiti price rise bad sign ...          20.0   \n",
       "1     suppli yonex mavi outsid cover yonex ad insid ...          12.0   \n",
       "2     worst product damag shuttlecock pack new box o...          17.0   \n",
       "3     quit k nowaday qualiti cork like year back use...          30.0   \n",
       "4     pricedjust retail understand wat advantag buy ...           9.0   \n",
       "...                                                 ...           ...   \n",
       "8510                                            comment           1.0   \n",
       "8512                                            comment           1.0   \n",
       "8513                                            comment           1.0   \n",
       "8515                                            comment           1.0   \n",
       "8511                                                NaN           NaN   \n",
       "\n",
       "      compound  \n",
       "0       0.8316  \n",
       "1      -0.4767  \n",
       "2      -0.8360  \n",
       "3       0.9042  \n",
       "4       0.0000  \n",
       "...        ...  \n",
       "8510    0.0000  \n",
       "8512    0.0000  \n",
       "8513    0.0000  \n",
       "8515       NaN  \n",
       "8511    0.0000  \n",
       "\n",
       "[8515 rows x 3 columns]"
      ]
     },
     "execution_count": 94,
     "metadata": {},
     "output_type": "execute_result"
    }
   ],
   "source": [
    "df_clean"
   ]
  },
  {
   "cell_type": "code",
   "execution_count": 95,
   "id": "01fb3049",
   "metadata": {},
   "outputs": [],
   "source": [
    "df_clean.drop(columns='no_of_tokens',inplace=True)"
   ]
  },
  {
   "cell_type": "code",
   "execution_count": 96,
   "id": "9b544099",
   "metadata": {},
   "outputs": [],
   "source": [
    "df_clean['review text']=df_clean['review_text_cleaned'].fillna(' ')"
   ]
  },
  {
   "cell_type": "code",
   "execution_count": 97,
   "id": "40025221",
   "metadata": {},
   "outputs": [],
   "source": [
    "def sentiment(n):\n",
    "    if n <= 0.4 and n != 0.4:\n",
    "        return 'Negative'\n",
    "    elif n > 0.4:\n",
    "        return 'Positive'\n",
    "    elif n==0.4:\n",
    "        return 'Neutral'"
   ]
  },
  {
   "cell_type": "code",
   "execution_count": 98,
   "id": "f5d3ebf9",
   "metadata": {},
   "outputs": [],
   "source": [
    "df_clean['Emotion'] = df_clean['compound'].apply(sentiment)"
   ]
  },
  {
   "cell_type": "code",
   "execution_count": 99,
   "id": "aaa6263c",
   "metadata": {},
   "outputs": [
    {
     "data": {
      "text/plain": [
       "<Axes: xlabel='Emotion'>"
      ]
     },
     "execution_count": 99,
     "metadata": {},
     "output_type": "execute_result"
    },
    {
     "data": {
      "image/png": "[encoded data removed]",
      "text/plain": [
       "<Figure size 640x480 with 1 Axes>"
      ]
     },
     "metadata": {},
     "output_type": "display_data"
    }
   ],
   "source": [
    "df_clean['Emotion'].value_counts().plot(kind='bar')"
   ]
  },
  {
   "cell_type": "code",
   "execution_count": 100,
   "id": "6db6cae2",
   "metadata": {},
   "outputs": [
    {
     "data": {
      "text/html": [
       "<div>\n",
       "<style scoped>\n",
       "    .dataframe tbody tr th:only-of-type {\n",
       "        vertical-align: middle;\n",
       "    }\n",
       "\n",
       "    .dataframe tbody tr th {\n",
       "        vertical-align: top;\n",
       "    }\n",
       "\n",
       "    .dataframe thead th {\n",
       "        text-align: right;\n",
       "    }\n",
       "</style>\n",
       "<table border=\"1\" class=\"dataframe\">\n",
       "  <thead>\n",
       "    <tr style=\"text-align: right;\">\n",
       "      <th></th>\n",
       "      <th>review_text_cleaned</th>\n",
       "      <th>compound</th>\n",
       "      <th>review text</th>\n",
       "      <th>Emotion</th>\n",
       "    </tr>\n",
       "  </thead>\n",
       "  <tbody>\n",
       "    <tr>\n",
       "      <th>0</th>\n",
       "      <td>nice product good qualiti price rise bad sign ...</td>\n",
       "      <td>0.8316</td>\n",
       "      <td>nice product good qualiti price rise bad sign ...</td>\n",
       "      <td>Positive</td>\n",
       "    </tr>\n",
       "    <tr>\n",
       "      <th>1</th>\n",
       "      <td>suppli yonex mavi outsid cover yonex ad insid ...</td>\n",
       "      <td>-0.4767</td>\n",
       "      <td>suppli yonex mavi outsid cover yonex ad insid ...</td>\n",
       "      <td>Negative</td>\n",
       "    </tr>\n",
       "    <tr>\n",
       "      <th>2</th>\n",
       "      <td>worst product damag shuttlecock pack new box o...</td>\n",
       "      <td>-0.8360</td>\n",
       "      <td>worst product damag shuttlecock pack new box o...</td>\n",
       "      <td>Negative</td>\n",
       "    </tr>\n",
       "    <tr>\n",
       "      <th>3</th>\n",
       "      <td>quit k nowaday qualiti cork like year back use...</td>\n",
       "      <td>0.9042</td>\n",
       "      <td>quit k nowaday qualiti cork like year back use...</td>\n",
       "      <td>Positive</td>\n",
       "    </tr>\n",
       "    <tr>\n",
       "      <th>4</th>\n",
       "      <td>pricedjust retail understand wat advantag buy ...</td>\n",
       "      <td>0.0000</td>\n",
       "      <td>pricedjust retail understand wat advantag buy ...</td>\n",
       "      <td>Negative</td>\n",
       "    </tr>\n",
       "    <tr>\n",
       "      <th>...</th>\n",
       "      <td>...</td>\n",
       "      <td>...</td>\n",
       "      <td>...</td>\n",
       "      <td>...</td>\n",
       "    </tr>\n",
       "    <tr>\n",
       "      <th>8510</th>\n",
       "      <td>comment</td>\n",
       "      <td>0.0000</td>\n",
       "      <td>comment</td>\n",
       "      <td>Negative</td>\n",
       "    </tr>\n",
       "    <tr>\n",
       "      <th>8512</th>\n",
       "      <td>comment</td>\n",
       "      <td>0.0000</td>\n",
       "      <td>comment</td>\n",
       "      <td>Negative</td>\n",
       "    </tr>\n",
       "    <tr>\n",
       "      <th>8513</th>\n",
       "      <td>comment</td>\n",
       "      <td>0.0000</td>\n",
       "      <td>comment</td>\n",
       "      <td>Negative</td>\n",
       "    </tr>\n",
       "    <tr>\n",
       "      <th>8515</th>\n",
       "      <td>comment</td>\n",
       "      <td>NaN</td>\n",
       "      <td>comment</td>\n",
       "      <td>None</td>\n",
       "    </tr>\n",
       "    <tr>\n",
       "      <th>8511</th>\n",
       "      <td>NaN</td>\n",
       "      <td>0.0000</td>\n",
       "      <td></td>\n",
       "      <td>Negative</td>\n",
       "    </tr>\n",
       "  </tbody>\n",
       "</table>\n",
       "<p>8515 rows × 4 columns</p>\n",
       "</div>"
      ],
      "text/plain": [
       "                                    review_text_cleaned  compound  \\\n",
       "0     nice product good qualiti price rise bad sign ...    0.8316   \n",
       "1     suppli yonex mavi outsid cover yonex ad insid ...   -0.4767   \n",
       "2     worst product damag shuttlecock pack new box o...   -0.8360   \n",
       "3     quit k nowaday qualiti cork like year back use...    0.9042   \n",
       "4     pricedjust retail understand wat advantag buy ...    0.0000   \n",
       "...                                                 ...       ...   \n",
       "8510                                            comment    0.0000   \n",
       "8512                                            comment    0.0000   \n",
       "8513                                            comment    0.0000   \n",
       "8515                                            comment       NaN   \n",
       "8511                                                NaN    0.0000   \n",
       "\n",
       "                                            review text   Emotion  \n",
       "0     nice product good qualiti price rise bad sign ...  Positive  \n",
       "1     suppli yonex mavi outsid cover yonex ad insid ...  Negative  \n",
       "2     worst product damag shuttlecock pack new box o...  Negative  \n",
       "3     quit k nowaday qualiti cork like year back use...  Positive  \n",
       "4     pricedjust retail understand wat advantag buy ...  Negative  \n",
       "...                                                 ...       ...  \n",
       "8510                                            comment  Negative  \n",
       "8512                                            comment  Negative  \n",
       "8513                                            comment  Negative  \n",
       "8515                                            comment      None  \n",
       "8511                                                     Negative  \n",
       "\n",
       "[8515 rows x 4 columns]"
      ]
     },
     "execution_count": 100,
     "metadata": {},
     "output_type": "execute_result"
    }
   ],
   "source": [
    "df_clean"
   ]
  },
  {
   "cell_type": "code",
   "execution_count": 101,
   "id": "f1664689",
   "metadata": {},
   "outputs": [],
   "source": [
    "yonex = pd.concat([df_clean['review_text_cleaned'],df_clean['Emotion']],axis=1)"
   ]
  },
  {
   "cell_type": "code",
   "execution_count": 102,
   "id": "fa990e11",
   "metadata": {},
   "outputs": [],
   "source": [
    "yonex.dropna(inplace=True)"
   ]
  },
  {
   "cell_type": "code",
   "execution_count": 103,
   "id": "800df7c8",
   "metadata": {},
   "outputs": [
    {
     "data": {
      "text/html": [
       "<div>\n",
       "<style scoped>\n",
       "    .dataframe tbody tr th:only-of-type {\n",
       "        vertical-align: middle;\n",
       "    }\n",
       "\n",
       "    .dataframe tbody tr th {\n",
       "        vertical-align: top;\n",
       "    }\n",
       "\n",
       "    .dataframe thead th {\n",
       "        text-align: right;\n",
       "    }\n",
       "</style>\n",
       "<table border=\"1\" class=\"dataframe\">\n",
       "  <thead>\n",
       "    <tr style=\"text-align: right;\">\n",
       "      <th></th>\n",
       "      <th>review_text_cleaned</th>\n",
       "      <th>Emotion</th>\n",
       "    </tr>\n",
       "  </thead>\n",
       "  <tbody>\n",
       "    <tr>\n",
       "      <th>0</th>\n",
       "      <td>nice product good qualiti price rise bad sign ...</td>\n",
       "      <td>Positive</td>\n",
       "    </tr>\n",
       "    <tr>\n",
       "      <th>1</th>\n",
       "      <td>suppli yonex mavi outsid cover yonex ad insid ...</td>\n",
       "      <td>Negative</td>\n",
       "    </tr>\n",
       "    <tr>\n",
       "      <th>2</th>\n",
       "      <td>worst product damag shuttlecock pack new box o...</td>\n",
       "      <td>Negative</td>\n",
       "    </tr>\n",
       "    <tr>\n",
       "      <th>3</th>\n",
       "      <td>quit k nowaday qualiti cork like year back use...</td>\n",
       "      <td>Positive</td>\n",
       "    </tr>\n",
       "    <tr>\n",
       "      <th>4</th>\n",
       "      <td>pricedjust retail understand wat advantag buy ...</td>\n",
       "      <td>Negative</td>\n",
       "    </tr>\n",
       "    <tr>\n",
       "      <th>...</th>\n",
       "      <td>...</td>\n",
       "      <td>...</td>\n",
       "    </tr>\n",
       "    <tr>\n",
       "      <th>8508</th>\n",
       "      <td>complaint item best one way price easili avail...</td>\n",
       "      <td>Positive</td>\n",
       "    </tr>\n",
       "    <tr>\n",
       "      <th>8509</th>\n",
       "      <td>sure charg product mrp okay pay rs product com...</td>\n",
       "      <td>Positive</td>\n",
       "    </tr>\n",
       "    <tr>\n",
       "      <th>8510</th>\n",
       "      <td>comment</td>\n",
       "      <td>Negative</td>\n",
       "    </tr>\n",
       "    <tr>\n",
       "      <th>8512</th>\n",
       "      <td>comment</td>\n",
       "      <td>Negative</td>\n",
       "    </tr>\n",
       "    <tr>\n",
       "      <th>8513</th>\n",
       "      <td>comment</td>\n",
       "      <td>Negative</td>\n",
       "    </tr>\n",
       "  </tbody>\n",
       "</table>\n",
       "<p>8513 rows × 2 columns</p>\n",
       "</div>"
      ],
      "text/plain": [
       "                                    review_text_cleaned   Emotion\n",
       "0     nice product good qualiti price rise bad sign ...  Positive\n",
       "1     suppli yonex mavi outsid cover yonex ad insid ...  Negative\n",
       "2     worst product damag shuttlecock pack new box o...  Negative\n",
       "3     quit k nowaday qualiti cork like year back use...  Positive\n",
       "4     pricedjust retail understand wat advantag buy ...  Negative\n",
       "...                                                 ...       ...\n",
       "8508  complaint item best one way price easili avail...  Positive\n",
       "8509  sure charg product mrp okay pay rs product com...  Positive\n",
       "8510                                            comment  Negative\n",
       "8512                                            comment  Negative\n",
       "8513                                            comment  Negative\n",
       "\n",
       "[8513 rows x 2 columns]"
      ]
     },
     "execution_count": 103,
     "metadata": {},
     "output_type": "execute_result"
    }
   ],
   "source": [
    "yonex"
   ]
  },
  {
   "cell_type": "code",
   "execution_count": null,
   "id": "efdb82ec",
   "metadata": {},
   "outputs": [],
   "source": []
  },
  {
   "cell_type": "code",
   "execution_count": 104,
   "id": "8420879a",
   "metadata": {},
   "outputs": [],
   "source": [
    "X=yonex['review_text_cleaned']\n",
    "y=yonex['Emotion']"
   ]
  },
  {
   "cell_type": "code",
   "execution_count": 105,
   "id": "8db01650",
   "metadata": {},
   "outputs": [],
   "source": [
    "X_train,X_test,y_train,y_test = train_test_split(X,y,test_size=0.2,random_state=42)"
   ]
  },
  {
   "cell_type": "code",
   "execution_count": 106,
   "id": "ab084122",
   "metadata": {},
   "outputs": [],
   "source": [
    "pipe=Pipeline([('Vectorization',CountVectorizer()),\n",
    "              (\"Estimator\",MultinomialNB(alpha=3))])"
   ]
  },
  {
   "cell_type": "code",
   "execution_count": 107,
   "id": "a31aeb06",
   "metadata": {},
   "outputs": [
    {
     "data": {
      "text/html": [
       "<style>#sk-container-id-1 {color: black;}#sk-container-id-1 pre{padding: 0;}#sk-container-id-1 div.sk-toggleable {background-color: white;}#sk-container-id-1 label.sk-toggleable__label {cursor: pointer;display: block;width: 100%;margin-bottom: 0;padding: 0.3em;box-sizing: border-box;text-align: center;}#sk-container-id-1 label.sk-toggleable__label-arrow:before {content: \"▸\";float: left;margin-right: 0.25em;color: #696969;}#sk-container-id-1 label.sk-toggleable__label-arrow:hover:before {color: black;}#sk-container-id-1 div.sk-estimator:hover label.sk-toggleable__label-arrow:before {color: black;}#sk-container-id-1 div.sk-toggleable__content {max-height: 0;max-width: 0;overflow: hidden;text-align: left;background-color: #f0f8ff;}#sk-container-id-1 div.sk-toggleable__content pre {margin: 0.2em;color: black;border-radius: 0.25em;background-color: #f0f8ff;}#sk-container-id-1 input.sk-toggleable__control:checked~div.sk-toggleable__content {max-height: 200px;max-width: 100%;overflow: auto;}#sk-container-id-1 input.sk-toggleable__control:checked~label.sk-toggleable__label-arrow:before {content: \"▾\";}#sk-container-id-1 div.sk-estimator input.sk-toggleable__control:checked~label.sk-toggleable__label {background-color: #d4ebff;}#sk-container-id-1 div.sk-label input.sk-toggleable__control:checked~label.sk-toggleable__label {background-color: #d4ebff;}#sk-container-id-1 input.sk-hidden--visually {border: 0;clip: rect(1px 1px 1px 1px);clip: rect(1px, 1px, 1px, 1px);height: 1px;margin: -1px;overflow: hidden;padding: 0;position: absolute;width: 1px;}#sk-container-id-1 div.sk-estimator {font-family: monospace;background-color: #f0f8ff;border: 1px dotted black;border-radius: 0.25em;box-sizing: border-box;margin-bottom: 0.5em;}#sk-container-id-1 div.sk-estimator:hover {background-color: #d4ebff;}#sk-container-id-1 div.sk-parallel-item::after {content: \"\";width: 100%;border-bottom: 1px solid gray;flex-grow: 1;}#sk-container-id-1 div.sk-label:hover label.sk-toggleable__label {background-color: #d4ebff;}#sk-container-id-1 div.sk-serial::before {content: \"\";position: absolute;border-left: 1px solid gray;box-sizing: border-box;top: 0;bottom: 0;left: 50%;z-index: 0;}#sk-container-id-1 div.sk-serial {display: flex;flex-direction: column;align-items: center;background-color: white;padding-right: 0.2em;padding-left: 0.2em;position: relative;}#sk-container-id-1 div.sk-item {position: relative;z-index: 1;}#sk-container-id-1 div.sk-parallel {display: flex;align-items: stretch;justify-content: center;background-color: white;position: relative;}#sk-container-id-1 div.sk-item::before, #sk-container-id-1 div.sk-parallel-item::before {content: \"\";position: absolute;border-left: 1px solid gray;box-sizing: border-box;top: 0;bottom: 0;left: 50%;z-index: -1;}#sk-container-id-1 div.sk-parallel-item {display: flex;flex-direction: column;z-index: 1;position: relative;background-color: white;}#sk-container-id-1 div.sk-parallel-item:first-child::after {align-self: flex-end;width: 50%;}#sk-container-id-1 div.sk-parallel-item:last-child::after {align-self: flex-start;width: 50%;}#sk-container-id-1 div.sk-parallel-item:only-child::after {width: 0;}#sk-container-id-1 div.sk-dashed-wrapped {border: 1px dashed gray;margin: 0 0.4em 0.5em 0.4em;box-sizing: border-box;padding-bottom: 0.4em;background-color: white;}#sk-container-id-1 div.sk-label label {font-family: monospace;font-weight: bold;display: inline-block;line-height: 1.2em;}#sk-container-id-1 div.sk-label-container {text-align: center;}#sk-container-id-1 div.sk-container {/* jupyter's `normalize.less` sets `[hidden] { display: none; }` but bootstrap.min.css set `[hidden] { display: none !important; }` so we also need the `!important` here to be able to override the default hidden behavior on the sphinx rendered scikit-learn.org. See: https://github.com/scikit-learn/scikit-learn/issues/21755 */display: inline-block !important;position: relative;}#sk-container-id-1 div.sk-text-repr-fallback {display: none;}</style><div id=\"sk-container-id-1\" class=\"sk-top-container\"><div class=\"sk-text-repr-fallback\"><pre>Pipeline(steps=[(&#x27;Vectorization&#x27;, CountVectorizer()),\n",
       "                (&#x27;Estimator&#x27;, MultinomialNB(alpha=3))])</pre><b>In a Jupyter environment, please rerun this cell to show the HTML representation or trust the notebook. <br />On GitHub, the HTML representation is unable to render, please try loading this page with nbviewer.org.</b></div><div class=\"sk-container\" hidden><div class=\"sk-item sk-dashed-wrapped\"><div class=\"sk-label-container\"><div class=\"sk-label sk-toggleable\"><input class=\"sk-toggleable__control sk-hidden--visually\" id=\"sk-estimator-id-1\" type=\"checkbox\" ><label for=\"sk-estimator-id-1\" class=\"sk-toggleable__label sk-toggleable__label-arrow\">Pipeline</label><div class=\"sk-toggleable__content\"><pre>Pipeline(steps=[(&#x27;Vectorization&#x27;, CountVectorizer()),\n",
       "                (&#x27;Estimator&#x27;, MultinomialNB(alpha=3))])</pre></div></div></div><div class=\"sk-serial\"><div class=\"sk-item\"><div class=\"sk-estimator sk-toggleable\"><input class=\"sk-toggleable__control sk-hidden--visually\" id=\"sk-estimator-id-2\" type=\"checkbox\" ><label for=\"sk-estimator-id-2\" class=\"sk-toggleable__label sk-toggleable__label-arrow\">CountVectorizer</label><div class=\"sk-toggleable__content\"><pre>CountVectorizer()</pre></div></div></div><div class=\"sk-item\"><div class=\"sk-estimator sk-toggleable\"><input class=\"sk-toggleable__control sk-hidden--visually\" id=\"sk-estimator-id-3\" type=\"checkbox\" ><label for=\"sk-estimator-id-3\" class=\"sk-toggleable__label sk-toggleable__label-arrow\">MultinomialNB</label><div class=\"sk-toggleable__content\"><pre>MultinomialNB(alpha=3)</pre></div></div></div></div></div></div></div>"
      ],
      "text/plain": [
       "Pipeline(steps=[('Vectorization', CountVectorizer()),\n",
       "                ('Estimator', MultinomialNB(alpha=3))])"
      ]
     },
     "execution_count": 107,
     "metadata": {},
     "output_type": "execute_result"
    }
   ],
   "source": [
    "pipe.fit(X_train,y_train)"
   ]
  },
  {
   "cell_type": "code",
   "execution_count": 108,
   "id": "ba2f898c",
   "metadata": {},
   "outputs": [],
   "source": [
    "y_pred = pipe.predict(X_test)"
   ]
  },
  {
   "cell_type": "code",
   "execution_count": 109,
   "id": "dadaf18c",
   "metadata": {},
   "outputs": [
    {
     "data": {
      "text/plain": [
       "0.9230769230769231"
      ]
     },
     "execution_count": 109,
     "metadata": {},
     "output_type": "execute_result"
    }
   ],
   "source": [
    "accuracy_score(y_test,y_pred)"
   ]
  },
  {
   "cell_type": "code",
   "execution_count": 110,
   "id": "90843925",
   "metadata": {},
   "outputs": [
    {
     "data": {
      "text/plain": [
       "0.9234012786170078"
      ]
     },
     "execution_count": 110,
     "metadata": {},
     "output_type": "execute_result"
    }
   ],
   "source": [
    "f1_score(y_test, y_pred, average='weighted')"
   ]
  },
  {
   "cell_type": "code",
   "execution_count": null,
   "id": "e0cd6277",
   "metadata": {},
   "outputs": [],
   "source": []
  },
  {
   "cell_type": "markdown",
   "id": "cac2a8b5",
   "metadata": {},
   "source": [
    "### Creating a pickle file"
   ]
  },
  {
   "cell_type": "code",
   "execution_count": 111,
   "id": "ebd012ba",
   "metadata": {},
   "outputs": [],
   "source": [
    "#import pickle\n",
    "#pickle.dump(pipe,open(\"sentiment_yonex.pkl\",\"wb\"))"
   ]
  },
  {
   "cell_type": "code",
   "execution_count": 140,
   "id": "84871223",
   "metadata": {},
   "outputs": [
    {
     "data": {
      "text/plain": [
       "'C:\\\\Users\\\\tejas\\\\mlfow'"
      ]
     },
     "execution_count": 140,
     "metadata": {},
     "output_type": "execute_result"
    }
   ],
   "source": [
    "import os\n",
    "os.getcwd()"
   ]
  },
  {
   "cell_type": "code",
   "execution_count": 113,
   "id": "8bf56e12",
   "metadata": {},
   "outputs": [],
   "source": [
    "#os.chdir('D:\\Intership\\sentiment_analysis_web')"
   ]
  },
  {
   "cell_type": "code",
   "execution_count": null,
   "id": "03d40369",
   "metadata": {},
   "outputs": [],
   "source": []
  },
  {
   "cell_type": "code",
   "execution_count": 114,
   "id": "a28bd5e6",
   "metadata": {},
   "outputs": [],
   "source": [
    "import pickle\n",
    "pickle.dump(pipe,open(\"sentiment_yonex.pkl\",\"wb\"))"
   ]
  },
  {
   "cell_type": "code",
   "execution_count": 115,
   "id": "7982710a",
   "metadata": {},
   "outputs": [
    {
     "data": {
      "text/plain": [
       "'D:\\\\Intership\\\\sentiment_analysis_web'"
      ]
     },
     "execution_count": 115,
     "metadata": {},
     "output_type": "execute_result"
    }
   ],
   "source": [
    "os.getcwd()"
   ]
  },
  {
   "cell_type": "code",
   "execution_count": 116,
   "id": "23c82398",
   "metadata": {},
   "outputs": [],
   "source": [
    "predict = pickle.load(open(\"sentiment_yonex.pkl\",\"rb\"))"
   ]
  },
  {
   "cell_type": "code",
   "execution_count": 117,
   "id": "dfe727a4",
   "metadata": {},
   "outputs": [
    {
     "data": {
      "text/plain": [
       "'Positive'"
      ]
     },
     "execution_count": 117,
     "metadata": {},
     "output_type": "execute_result"
    }
   ],
   "source": [
    "predict.predict(['This is so good'])[0]"
   ]
  },
  {
   "cell_type": "code",
   "execution_count": 118,
   "id": "799b71dc",
   "metadata": {},
   "outputs": [
    {
     "data": {
      "text/plain": [
       "'Positive'"
      ]
     },
     "execution_count": 118,
     "metadata": {},
     "output_type": "execute_result"
    }
   ],
   "source": [
    "predict.predict(['to be frank its not worth the price'])[0]"
   ]
  },
  {
   "cell_type": "code",
   "execution_count": 130,
   "id": "6bdf6efe",
   "metadata": {},
   "outputs": [],
   "source": [
    "from sklearn.pipeline import Pipeline\n",
    "\n",
    "from sklearn.feature_extraction.text import CountVectorizer, TfidfVectorizer\n",
    "from sklearn.naive_bayes import MultinomialNB\n",
    "from sklearn.linear_model import LogisticRegression\n",
    "from sklearn.tree import DecisionTreeClassifier\n",
    "\n",
    "from sklearn.model_selection import GridSearchCV\n",
    "import joblib\n",
    "from joblib import Memory\n"
   ]
  },
  {
   "cell_type": "code",
   "execution_count": 120,
   "id": "a56058bd",
   "metadata": {},
   "outputs": [
    {
     "data": {
      "text/plain": [
       "'D:\\\\Intership\\\\sentiment_analysis_web'"
      ]
     },
     "execution_count": 120,
     "metadata": {},
     "output_type": "execute_result"
    }
   ],
   "source": [
    "import os\n",
    "os.getcwd()"
   ]
  },
  {
   "cell_type": "markdown",
   "id": "b134d999",
   "metadata": {},
   "source": [
    "## ML work flow"
   ]
  },
  {
   "cell_type": "code",
   "execution_count": 141,
   "id": "e81111e4",
   "metadata": {},
   "outputs": [],
   "source": [
    "import warnings\n",
    "\n",
    "warnings.filterwarnings('ignore')"
   ]
  },
  {
   "cell_type": "code",
   "execution_count": 142,
   "id": "4be1da41",
   "metadata": {},
   "outputs": [],
   "source": [
    "#pip install xgboost"
   ]
  },
  {
   "cell_type": "code",
   "execution_count": 143,
   "id": "6fe7e674",
   "metadata": {},
   "outputs": [],
   "source": [
    "from sklearn.ensemble import RandomForestClassifier\n",
    "from sklearn.tree import DecisionTreeClassifier\n",
    "from sklearn.linear_model import LogisticRegression\n",
    "from sklearn.neighbors import KNeighborsClassifier\n",
    "from sklearn.svm import SVC\n",
    "from sklearn.naive_bayes import MultinomialNB\n",
    "from xgboost import XGBClassifier"
   ]
  },
  {
   "cell_type": "code",
   "execution_count": 149,
   "id": "b38c0bf9",
   "metadata": {},
   "outputs": [],
   "source": [
    "cachedir = '.cache'\n",
    "memory = Memory(location=cachedir, verbose=0)\n",
    "\n",
    "\n",
    "best_models={}\n",
    "\n",
    "pipelines = {\n",
    "    'RandomForest': Pipeline([\n",
    "        ('Vectorization', TfidfVectorizer()),\n",
    "        ('classifier', RandomForestClassifier())\n",
    "    ],memory=memory),\n",
    "    'DecisionTrees': Pipeline([\n",
    "        ('Vectorization', TfidfVectorizer()),\n",
    "        ('classifier', DecisionTreeClassifier())\n",
    "    ],memory=memory),\n",
    "    'LogisticRegression': Pipeline([\n",
    "        ('Vectorization', TfidfVectorizer()),\n",
    "        ('classifier', LogisticRegression())\n",
    "    ],memory=memory),\n",
    "    'KNeighbors': Pipeline([\n",
    "        ('Vectorization', TfidfVectorizer()),\n",
    "        ('classifier', KNeighborsClassifier())\n",
    "    ],memory=memory),\n",
    "    'NaiveBayes': Pipeline([\n",
    "        ('Vectorization', TfidfVectorizer()),\n",
    "        ('classifier', MultinomialNB())\n",
    "    ],memory=memory),\n",
    "    'SVC': Pipeline([\n",
    "        ('Vectorization', TfidfVectorizer()),\n",
    "        ('classifier', SVC())\n",
    "    ],memory=memory)\n",
    "    \n",
    "}\n",
    "\n",
    "param_grids = {\n",
    "    'RandomForest': {\n",
    "        'Vectorization': [TfidfVectorizer(),CountVectorizer()],\n",
    "        'classifier__n_estimators': [50, 100, 200],\n",
    "        'classifier__max_depth': [None, 10, 20],\n",
    "        'classifier__min_samples_split': [2, 5, 10]\n",
    "    },\n",
    "    'DecisionTrees': {\n",
    "        'Vectorization': [TfidfVectorizer(),CountVectorizer()],\n",
    "        'classifier__max_depth': [None, 10, 20],\n",
    "        'classifier__min_samples_split': [2, 5, 10]\n",
    "    },\n",
    "    'LogisticRegression': {\n",
    "        'Vectorization': [TfidfVectorizer(),CountVectorizer()],\n",
    "        'classifier__C': [0.1, 1, 10],\n",
    "        'classifier__penalty': ['l1', 'l2']\n",
    "    },\n",
    "    'KNeighbors': {\n",
    "        'Vectorization': [TfidfVectorizer(),CountVectorizer()],\n",
    "        'classifier__n_neighbors': [3, 5, 7, 9],\n",
    "        'classifier__p': [1, 2, 3]\n",
    "    },\n",
    "    'NaiveBayes': {\n",
    "        'Vectorization': [TfidfVectorizer(),CountVectorizer()],\n",
    "    },\n",
    "    'SVC': {\n",
    "        'Vectorization': [TfidfVectorizer(),CountVectorizer()],\n",
    "        'classifier__C': [0.1, 1, 10],\n",
    "        'classifier__kernel': ['linear', 'rbf']\n",
    "    }\n",
    "     \n",
    "}\n"
   ]
  },
  {
   "cell_type": "code",
   "execution_count": 150,
   "id": "c9ed215f",
   "metadata": {},
   "outputs": [],
   "source": [
    "#for name, model in best_models.items():\n",
    "#    print(f\"{name}\")\n",
    "#    print(f\"{model}\")\n",
    "#    print()"
   ]
  },
  {
   "cell_type": "code",
   "execution_count": 151,
   "id": "8b7da713",
   "metadata": {},
   "outputs": [],
   "source": [
    "#pip install mlflow\n"
   ]
  },
  {
   "cell_type": "code",
   "execution_count": 152,
   "id": "e5e8e4ba",
   "metadata": {},
   "outputs": [
    {
     "data": {
      "text/plain": [
       "<Experiment: artifact_location='file:///C:/Users/tejas/mlfow/mlruns/594246249576835514', creation_time=1711878766133, experiment_id='594246249576835514', last_update_time=1711878766133, lifecycle_stage='active', name='sentiment_analysis', tags={}>"
      ]
     },
     "execution_count": 152,
     "metadata": {},
     "output_type": "execute_result"
    }
   ],
   "source": [
    "import mlflow\n",
    "mlflow.set_experiment(\"sentiment_analysis\")"
   ]
  },
  {
   "cell_type": "code",
   "execution_count": 153,
   "id": "d5f8251e",
   "metadata": {},
   "outputs": [
    {
     "name": "stdout",
     "output_type": "stream",
     "text": [
      "********** RandomForest **********\n"
     ]
    },
    {
     "name": "stderr",
     "output_type": "stream",
     "text": [
      "2024/03/31 16:56:25 WARNING mlflow.sklearn: Unrecognized dataset type <class 'pandas.core.series.Series'>. Dataset logging skipped.\n"
     ]
    },
    {
     "name": "stdout",
     "output_type": "stream",
     "text": [
      "Fitting 5 folds for each of 54 candidates, totalling 270 fits\n",
      "CPU times: total: 7min 37s\n",
      "Wall time: 17min 45s\n",
      "Train Score:  0.9819383259911895\n",
      "Test Score:  0.9817968291250734\n",
      "\n",
      "********** DecisionTrees **********\n"
     ]
    },
    {
     "name": "stderr",
     "output_type": "stream",
     "text": [
      "2024/03/31 17:14:12 WARNING mlflow.sklearn: Unrecognized dataset type <class 'pandas.core.series.Series'>. Dataset logging skipped.\n"
     ]
    },
    {
     "name": "stdout",
     "output_type": "stream",
     "text": [
      "Fitting 5 folds for each of 18 candidates, totalling 90 fits\n",
      "CPU times: total: 31.2 s\n",
      "Wall time: 1min 19s\n",
      "Train Score:  0.9839941262848753\n",
      "Test Score:  0.9853200234879624\n",
      "\n",
      "********** LogisticRegression **********\n"
     ]
    },
    {
     "name": "stderr",
     "output_type": "stream",
     "text": [
      "2024/03/31 17:15:34 WARNING mlflow.sklearn: Unrecognized dataset type <class 'pandas.core.series.Series'>. Dataset logging skipped.\n"
     ]
    },
    {
     "name": "stdout",
     "output_type": "stream",
     "text": [
      "Fitting 5 folds for each of 12 candidates, totalling 60 fits\n",
      "CPU times: total: 6.92 s\n",
      "Wall time: 22 s\n",
      "Train Score:  0.98575624082232\n",
      "Test Score:  0.9864944216089254\n",
      "\n",
      "********** KNeighbors **********\n"
     ]
    },
    {
     "name": "stderr",
     "output_type": "stream",
     "text": [
      "2024/03/31 17:15:56 WARNING mlflow.sklearn: Unrecognized dataset type <class 'pandas.core.series.Series'>. Dataset logging skipped.\n"
     ]
    },
    {
     "name": "stdout",
     "output_type": "stream",
     "text": [
      "Fitting 5 folds for each of 24 candidates, totalling 120 fits\n",
      "CPU times: total: 3min 44s\n",
      "Wall time: 3min 29s\n",
      "Train Score:  0.9189427312775331\n",
      "Test Score:  0.920728126834997\n",
      "\n",
      "********** NaiveBayes **********\n"
     ]
    },
    {
     "name": "stderr",
     "output_type": "stream",
     "text": [
      "2024/03/31 17:19:26 WARNING mlflow.sklearn: Unrecognized dataset type <class 'pandas.core.series.Series'>. Dataset logging skipped.\n"
     ]
    },
    {
     "name": "stdout",
     "output_type": "stream",
     "text": [
      "Fitting 5 folds for each of 2 candidates, totalling 10 fits\n",
      "CPU times: total: 2.3 s\n",
      "Wall time: 8.48 s\n",
      "Train Score:  0.9208516886930983\n",
      "Test Score:  0.9236641221374046\n",
      "\n",
      "********** SVC **********\n"
     ]
    },
    {
     "name": "stderr",
     "output_type": "stream",
     "text": [
      "2024/03/31 17:19:35 WARNING mlflow.sklearn: Unrecognized dataset type <class 'pandas.core.series.Series'>. Dataset logging skipped.\n"
     ]
    },
    {
     "name": "stdout",
     "output_type": "stream",
     "text": [
      "Fitting 5 folds for each of 12 candidates, totalling 60 fits\n",
      "CPU times: total: 1min 2s\n",
      "Wall time: 1min 43s\n",
      "Train Score:  0.9891336270190896\n",
      "Test Score:  0.98825601879037\n",
      "\n"
     ]
    }
   ],
   "source": [
    "best_models = {}\n",
    "\n",
    "# Run the Pipeline\n",
    "for algo in pipelines.keys():\n",
    "    print(\"*\"*10, algo, \"*\"*10)\n",
    "    grid_search = GridSearchCV(estimator=pipelines[algo], \n",
    "                               param_grid=param_grids[algo], \n",
    "                               cv=5, \n",
    "                               scoring='accuracy', \n",
    "                               return_train_score=True,\n",
    "                               verbose=1\n",
    "                              )\n",
    "    \n",
    "    mlflow.sklearn.autolog(max_tuning_runs=None)\n",
    "    \n",
    "    with mlflow.start_run() as run:\n",
    "        %time grid_search.fit(X_train, y_train)\n",
    "        \n",
    "    print('Train Score: ', grid_search.best_score_)\n",
    "    print('Test Score: ', grid_search.score(X_test, y_test))\n",
    "    \n",
    "    best_models[algo] = grid_search.best_estimator_\n",
    "    print()"
   ]
  },
  {
   "cell_type": "code",
   "execution_count": 154,
   "id": "2d7b1184",
   "metadata": {},
   "outputs": [],
   "source": [
    "# Stop the auto logger\n",
    "\n",
    "mlflow.sklearn.autolog(disable=True)"
   ]
  },
  {
   "cell_type": "code",
   "execution_count": 138,
   "id": "116f5b02",
   "metadata": {},
   "outputs": [],
   "source": []
  },
  {
   "cell_type": "code",
   "execution_count": null,
   "id": "e2b7a9c0",
   "metadata": {},
   "outputs": [],
   "source": []
  },
  {
   "cell_type": "code",
   "execution_count": null,
   "id": "2214bda4",
   "metadata": {},
   "outputs": [],
   "source": []
  },
  {
   "cell_type": "code",
   "execution_count": null,
   "id": "27384a21",
   "metadata": {},
   "outputs": [],
   "source": []
  },
  {
   "cell_type": "code",
   "execution_count": null,
   "id": "1e2d54e4",
   "metadata": {},
   "outputs": [],
   "source": []
  }
 ],
 "metadata": {
  "kernelspec": {
   "display_name": "Python 3 (ipykernel)",
   "language": "python",
   "name": "python3"
  },
  "language_info": {
   "codemirror_mode": {
    "name": "ipython",
    "version": 3
   },
   "file_extension": ".py",
   "mimetype": "text/x-python",
   "name": "python",
   "nbconvert_exporter": "python",
   "pygments_lexer": "ipython3",
   "version": "3.11.5"
  }
 },
 "nbformat": 4,
 "nbformat_minor": 5
}
